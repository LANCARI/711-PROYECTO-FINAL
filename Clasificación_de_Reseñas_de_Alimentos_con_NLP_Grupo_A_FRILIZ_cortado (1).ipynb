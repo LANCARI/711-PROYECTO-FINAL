{
 "cells": [
  {
   "cell_type": "markdown",
   "metadata": {
    "_uuid": "6d09a9af4164f0e243f762b4ae717c72c787bf2f",
    "id": "5SgbYq8mkNQz"
   },
   "source": [
    "# Clasificacion de Reseñas de Alimentos de Amazon con NLP\n",
    "\n",
    "### Integrates de Grupo: **A**\n",
    "* Licett Ancari (licett.ancari.villcarani@gmail.com)\n",
    "* Frida Aduviri (fridajulietaaduvirimoya@gmail.com)\n",
    "\n",
    "## Descripcion del DataSet\n",
    "\n",
    "El conjunto de datos consta de datos de 13 años que consta de 10 atributos para 568000 revisiones. Debido a la complejidad computacional, utilizaremos una muestra aleatoria de 10.000 reseñas para nuestro análisis."
   ]
  },
  {
   "cell_type": "markdown",
   "metadata": {
    "_uuid": "7f564a72269dfbaf9563f191ad428979ec73878e",
    "id": "cPDG_1dmkNQ0"
   },
   "source": [
    "The dataset contains the following columns :\n",
    "\n",
    "1.Id->Review for each ID\n",
    "\n",
    "2.Product Id->Unique identifier for the product\n",
    "\n",
    "3.User Id->Unique identifier for the user\n",
    "\n",
    "4.Profile Name->A user who has given the review\n",
    "\n",
    "5.Helpful Numerator->No. of users who found the review helpful\n",
    "\n",
    "6.Helpful Denominator->No. of users who found the review helpful or not\n",
    "\n",
    "7.Score->Five being is the highest rating and 1 being the lowest rating\n",
    "\n",
    "8.Time->Date and time  when the review was given\n",
    "\n",
    "9.Summary->Summary of the review\n",
    "\n",
    "10.Text->Review text\n"
   ]
  },
  {
   "cell_type": "markdown",
   "metadata": {
    "_uuid": "48049f2669fd2119f4ccf6404fcbc3b29a85e44b",
    "id": "EYqTzH-WkNQ3"
   },
   "source": [
    " # Lectura de datos"
   ]
  },
  {
   "cell_type": "code",
   "execution_count": 1,
   "metadata": {
    "_uuid": "bd443a07d3e31f280a9cd1d6c56ec201b00fe884",
    "id": "J-QHYXD8kNQ1"
   },
   "outputs": [],
   "source": [
    "import pandas as pd\n",
    "#load the data\n",
    "sample=pd.read_csv('Resenas_Alimentos_cortado.csv',encoding='ISO-8859-1')"
   ]
  },
  {
   "cell_type": "code",
   "execution_count": 2,
   "metadata": {
    "_uuid": "59ed3e079934cd4ce54270ed6d1094ac6721a9c8",
    "colab": {
     "base_uri": "https://localhost:8080/"
    },
    "id": "Rs4RxEn6kNQ2",
    "outputId": "3e9d7a82-b900-4767-a27a-d8389e0d9885"
   },
   "outputs": [
    {
     "name": "stdout",
     "output_type": "stream",
     "text": [
      "(10000, 10)\n"
     ]
    }
   ],
   "source": [
    "#check the loaded data\n",
    "print(sample.shape)"
   ]
  },
  {
   "cell_type": "code",
   "execution_count": 3,
   "metadata": {
    "_uuid": "edad0362c139710bbf130d518c2798ef6426bb45",
    "colab": {
     "base_uri": "https://localhost:8080/",
     "height": 293
    },
    "id": "_haMIUeWkNQ3",
    "outputId": "560e586a-334f-4193-ab19-b2db93be55eb"
   },
   "outputs": [
    {
     "data": {
      "text/html": [
       "<div>\n",
       "<style scoped>\n",
       "    .dataframe tbody tr th:only-of-type {\n",
       "        vertical-align: middle;\n",
       "    }\n",
       "\n",
       "    .dataframe tbody tr th {\n",
       "        vertical-align: top;\n",
       "    }\n",
       "\n",
       "    .dataframe thead th {\n",
       "        text-align: right;\n",
       "    }\n",
       "</style>\n",
       "<table border=\"1\" class=\"dataframe\">\n",
       "  <thead>\n",
       "    <tr style=\"text-align: right;\">\n",
       "      <th></th>\n",
       "      <th>Id</th>\n",
       "      <th>ProductId</th>\n",
       "      <th>UserId</th>\n",
       "      <th>ProfileName</th>\n",
       "      <th>HelpfulnessNumerator</th>\n",
       "      <th>HelpfulnessDenominator</th>\n",
       "      <th>Score</th>\n",
       "      <th>Time</th>\n",
       "      <th>Summary</th>\n",
       "      <th>Text</th>\n",
       "    </tr>\n",
       "  </thead>\n",
       "  <tbody>\n",
       "    <tr>\n",
       "      <th>0</th>\n",
       "      <td>1</td>\n",
       "      <td>B001E4KFG0</td>\n",
       "      <td>A3SGXH7AUHU8GW</td>\n",
       "      <td>delmartian</td>\n",
       "      <td>1</td>\n",
       "      <td>1</td>\n",
       "      <td>5</td>\n",
       "      <td>1303862400</td>\n",
       "      <td>Good Quality Dog Food</td>\n",
       "      <td>I have bought several of the Vitality canned d...</td>\n",
       "    </tr>\n",
       "    <tr>\n",
       "      <th>1</th>\n",
       "      <td>2</td>\n",
       "      <td>B00813GRG4</td>\n",
       "      <td>A1D87F6ZCVE5NK</td>\n",
       "      <td>dll pa</td>\n",
       "      <td>0</td>\n",
       "      <td>0</td>\n",
       "      <td>1</td>\n",
       "      <td>1346976000</td>\n",
       "      <td>Not as Advertised</td>\n",
       "      <td>Product arrived labeled as Jumbo Salted Peanut...</td>\n",
       "    </tr>\n",
       "    <tr>\n",
       "      <th>2</th>\n",
       "      <td>3</td>\n",
       "      <td>B000LQOCH0</td>\n",
       "      <td>ABXLMWJIXXAIN</td>\n",
       "      <td>Natalia Corres \"Natalia Corres\"</td>\n",
       "      <td>1</td>\n",
       "      <td>1</td>\n",
       "      <td>4</td>\n",
       "      <td>1219017600</td>\n",
       "      <td>\"Delight\" says it all</td>\n",
       "      <td>This is a confection that has been around a fe...</td>\n",
       "    </tr>\n",
       "    <tr>\n",
       "      <th>3</th>\n",
       "      <td>4</td>\n",
       "      <td>B000UA0QIQ</td>\n",
       "      <td>A395BORC6FGVXV</td>\n",
       "      <td>Karl</td>\n",
       "      <td>3</td>\n",
       "      <td>3</td>\n",
       "      <td>2</td>\n",
       "      <td>1307923200</td>\n",
       "      <td>Cough Medicine</td>\n",
       "      <td>If you are looking for the secret ingredient i...</td>\n",
       "    </tr>\n",
       "    <tr>\n",
       "      <th>4</th>\n",
       "      <td>5</td>\n",
       "      <td>B006K2ZZ7K</td>\n",
       "      <td>A1UQRSCLF8GW1T</td>\n",
       "      <td>Michael D. Bigham \"M. Wassir\"</td>\n",
       "      <td>0</td>\n",
       "      <td>0</td>\n",
       "      <td>5</td>\n",
       "      <td>1350777600</td>\n",
       "      <td>Great taffy</td>\n",
       "      <td>Great taffy at a great price.  There was a wid...</td>\n",
       "    </tr>\n",
       "  </tbody>\n",
       "</table>\n",
       "</div>"
      ],
      "text/plain": [
       "   Id   ProductId          UserId                      ProfileName  \\\n",
       "0   1  B001E4KFG0  A3SGXH7AUHU8GW                       delmartian   \n",
       "1   2  B00813GRG4  A1D87F6ZCVE5NK                           dll pa   \n",
       "2   3  B000LQOCH0   ABXLMWJIXXAIN  Natalia Corres \"Natalia Corres\"   \n",
       "3   4  B000UA0QIQ  A395BORC6FGVXV                             Karl   \n",
       "4   5  B006K2ZZ7K  A1UQRSCLF8GW1T    Michael D. Bigham \"M. Wassir\"   \n",
       "\n",
       "   HelpfulnessNumerator  HelpfulnessDenominator  Score        Time  \\\n",
       "0                     1                       1      5  1303862400   \n",
       "1                     0                       0      1  1346976000   \n",
       "2                     1                       1      4  1219017600   \n",
       "3                     3                       3      2  1307923200   \n",
       "4                     0                       0      5  1350777600   \n",
       "\n",
       "                 Summary                                               Text  \n",
       "0  Good Quality Dog Food  I have bought several of the Vitality canned d...  \n",
       "1      Not as Advertised  Product arrived labeled as Jumbo Salted Peanut...  \n",
       "2  \"Delight\" says it all  This is a confection that has been around a fe...  \n",
       "3         Cough Medicine  If you are looking for the secret ingredient i...  \n",
       "4            Great taffy  Great taffy at a great price.  There was a wid...  "
      ]
     },
     "execution_count": 3,
     "metadata": {},
     "output_type": "execute_result"
    }
   ],
   "source": [
    "#look of the dataset\n",
    "sample.head()"
   ]
  },
  {
   "cell_type": "code",
   "execution_count": 4,
   "metadata": {
    "_uuid": "e9e49bb588ba1b8f4fde1fa39b79f279c61f589f",
    "colab": {
     "base_uri": "https://localhost:8080/",
     "height": 447
    },
    "id": "xe1F4JRYkNQ3",
    "outputId": "55ee88b7-2ee9-44dd-c8a5-00750db5af7f"
   },
   "outputs": [
    {
     "data": {
      "text/plain": [
       "<Axes: ylabel='count'>"
      ]
     },
     "execution_count": 4,
     "metadata": {},
     "output_type": "execute_result"
    },
    {
     "data": {
      "image/png": "[encoded data removed]",
      "text/plain": [
       "<Figure size 640x480 with 1 Axes>"
      ]
     },
     "metadata": {},
     "output_type": "display_data"
    }
   ],
   "source": [
    "# Understand how customer ratings are distributed\n",
    "import seaborn as sns\n",
    "sns.countplot(sample.Score)"
   ]
  },
  {
   "cell_type": "markdown",
   "metadata": {
    "_uuid": "48049f2669fd2119f4ccf6404fcbc3b29a85e44b",
    "id": "EYqTzH-WkNQ3"
   },
   "source": [
    " # Limpieza de datos"
   ]
  },
  {
   "cell_type": "markdown",
   "metadata": {
    "id": "LSRDqR3ixVc-"
   },
   "source": [
    "Convertir las revisiones numéricas en revisiones categóricas en condiciones superiores a 3 son positivo y menos de 3 son negativos ya que las reseñas calificadas con 3 no son de mucha utilidad para analizar"
   ]
  },
  {
   "cell_type": "code",
   "execution_count": 5,
   "metadata": {
    "_uuid": "80457bcb98802fa5bd362e986af87a8113c5f410",
    "id": "O5tP8eY_kNQ4"
   },
   "outputs": [],
   "source": [
    "#funcion\n",
    "def partition(x):\n",
    "    if x < 3:\n",
    "        return 'negative'\n",
    "    return 'positive'\n",
    "\n",
    "#Cambiar opiniones con una puntuación inferior a 3 para ser positiva\n",
    "actualScore = sample['Score']\n",
    "positiveNegative = actualScore.map(partition)\n",
    "sample['Score'] = positiveNegative"
   ]
  },
  {
   "cell_type": "code",
   "execution_count": 6,
   "metadata": {
    "_uuid": "b155c3f1830d430e54d996a2d0a285d9c0f22496",
    "colab": {
     "base_uri": "https://localhost:8080/",
     "height": 293
    },
    "id": "BpRPnedlkNQ5",
    "outputId": "cb2d3ddc-5dac-4aa9-9b71-033415276409"
   },
   "outputs": [
    {
     "data": {
      "text/html": [
       "<div>\n",
       "<style scoped>\n",
       "    .dataframe tbody tr th:only-of-type {\n",
       "        vertical-align: middle;\n",
       "    }\n",
       "\n",
       "    .dataframe tbody tr th {\n",
       "        vertical-align: top;\n",
       "    }\n",
       "\n",
       "    .dataframe thead th {\n",
       "        text-align: right;\n",
       "    }\n",
       "</style>\n",
       "<table border=\"1\" class=\"dataframe\">\n",
       "  <thead>\n",
       "    <tr style=\"text-align: right;\">\n",
       "      <th></th>\n",
       "      <th>Id</th>\n",
       "      <th>ProductId</th>\n",
       "      <th>UserId</th>\n",
       "      <th>ProfileName</th>\n",
       "      <th>HelpfulnessNumerator</th>\n",
       "      <th>HelpfulnessDenominator</th>\n",
       "      <th>Score</th>\n",
       "      <th>Time</th>\n",
       "      <th>Summary</th>\n",
       "      <th>Text</th>\n",
       "    </tr>\n",
       "  </thead>\n",
       "  <tbody>\n",
       "    <tr>\n",
       "      <th>0</th>\n",
       "      <td>1</td>\n",
       "      <td>B001E4KFG0</td>\n",
       "      <td>A3SGXH7AUHU8GW</td>\n",
       "      <td>delmartian</td>\n",
       "      <td>1</td>\n",
       "      <td>1</td>\n",
       "      <td>positive</td>\n",
       "      <td>1303862400</td>\n",
       "      <td>Good Quality Dog Food</td>\n",
       "      <td>I have bought several of the Vitality canned d...</td>\n",
       "    </tr>\n",
       "    <tr>\n",
       "      <th>1</th>\n",
       "      <td>2</td>\n",
       "      <td>B00813GRG4</td>\n",
       "      <td>A1D87F6ZCVE5NK</td>\n",
       "      <td>dll pa</td>\n",
       "      <td>0</td>\n",
       "      <td>0</td>\n",
       "      <td>negative</td>\n",
       "      <td>1346976000</td>\n",
       "      <td>Not as Advertised</td>\n",
       "      <td>Product arrived labeled as Jumbo Salted Peanut...</td>\n",
       "    </tr>\n",
       "    <tr>\n",
       "      <th>2</th>\n",
       "      <td>3</td>\n",
       "      <td>B000LQOCH0</td>\n",
       "      <td>ABXLMWJIXXAIN</td>\n",
       "      <td>Natalia Corres \"Natalia Corres\"</td>\n",
       "      <td>1</td>\n",
       "      <td>1</td>\n",
       "      <td>positive</td>\n",
       "      <td>1219017600</td>\n",
       "      <td>\"Delight\" says it all</td>\n",
       "      <td>This is a confection that has been around a fe...</td>\n",
       "    </tr>\n",
       "    <tr>\n",
       "      <th>3</th>\n",
       "      <td>4</td>\n",
       "      <td>B000UA0QIQ</td>\n",
       "      <td>A395BORC6FGVXV</td>\n",
       "      <td>Karl</td>\n",
       "      <td>3</td>\n",
       "      <td>3</td>\n",
       "      <td>negative</td>\n",
       "      <td>1307923200</td>\n",
       "      <td>Cough Medicine</td>\n",
       "      <td>If you are looking for the secret ingredient i...</td>\n",
       "    </tr>\n",
       "    <tr>\n",
       "      <th>4</th>\n",
       "      <td>5</td>\n",
       "      <td>B006K2ZZ7K</td>\n",
       "      <td>A1UQRSCLF8GW1T</td>\n",
       "      <td>Michael D. Bigham \"M. Wassir\"</td>\n",
       "      <td>0</td>\n",
       "      <td>0</td>\n",
       "      <td>positive</td>\n",
       "      <td>1350777600</td>\n",
       "      <td>Great taffy</td>\n",
       "      <td>Great taffy at a great price.  There was a wid...</td>\n",
       "    </tr>\n",
       "  </tbody>\n",
       "</table>\n",
       "</div>"
      ],
      "text/plain": [
       "   Id   ProductId          UserId                      ProfileName  \\\n",
       "0   1  B001E4KFG0  A3SGXH7AUHU8GW                       delmartian   \n",
       "1   2  B00813GRG4  A1D87F6ZCVE5NK                           dll pa   \n",
       "2   3  B000LQOCH0   ABXLMWJIXXAIN  Natalia Corres \"Natalia Corres\"   \n",
       "3   4  B000UA0QIQ  A395BORC6FGVXV                             Karl   \n",
       "4   5  B006K2ZZ7K  A1UQRSCLF8GW1T    Michael D. Bigham \"M. Wassir\"   \n",
       "\n",
       "   HelpfulnessNumerator  HelpfulnessDenominator     Score        Time  \\\n",
       "0                     1                       1  positive  1303862400   \n",
       "1                     0                       0  negative  1346976000   \n",
       "2                     1                       1  positive  1219017600   \n",
       "3                     3                       3  negative  1307923200   \n",
       "4                     0                       0  positive  1350777600   \n",
       "\n",
       "                 Summary                                               Text  \n",
       "0  Good Quality Dog Food  I have bought several of the Vitality canned d...  \n",
       "1      Not as Advertised  Product arrived labeled as Jumbo Salted Peanut...  \n",
       "2  \"Delight\" says it all  This is a confection that has been around a fe...  \n",
       "3         Cough Medicine  If you are looking for the secret ingredient i...  \n",
       "4            Great taffy  Great taffy at a great price.  There was a wid...  "
      ]
     },
     "execution_count": 6,
     "metadata": {},
     "output_type": "execute_result"
    }
   ],
   "source": [
    "sample.head()"
   ]
  },
  {
   "cell_type": "code",
   "execution_count": 7,
   "metadata": {
    "_uuid": "da944962df95336fcab103a85897118bdda3794d",
    "colab": {
     "base_uri": "https://localhost:8080/"
    },
    "id": "w43jAxWMkNQ5",
    "outputId": "742f120a-ddbf-4dcf-c442-a9d0617ec4e7"
   },
   "outputs": [
    {
     "data": {
      "text/plain": [
       "positive    8478\n",
       "negative    1522\n",
       "Name: Score, dtype: int64"
      ]
     },
     "execution_count": 7,
     "metadata": {},
     "output_type": "execute_result"
    }
   ],
   "source": [
    "# no de críticas positivas y negativas\n",
    "sample[\"Score\"].value_counts()\n",
    "#Aquí podemos decir que es un conjunto de datos desequilibrado."
   ]
  },
  {
   "cell_type": "code",
   "execution_count": 8,
   "metadata": {
    "_uuid": "e082408194a1d6f250adfcb6f2dc6eebfba7fff7",
    "colab": {
     "base_uri": "https://localhost:8080/"
    },
    "id": "nz9V03D0kNQ5",
    "outputId": "bb851bce-7fe2-44ca-ed5d-d8240b74707d"
   },
   "outputs": [
    {
     "data": {
      "text/plain": [
       "(9515, 10)"
      ]
     },
     "execution_count": 8,
     "metadata": {},
     "output_type": "execute_result"
    }
   ],
   "source": [
    "#Eliminando la columna de duplicados, si la hay, usando soltar duplicados de pandas\n",
    "sorted_data=sample.sort_values('ProductId', axis=0, ascending=True, inplace=False, kind='quicksort', na_position='last')\n",
    "final=sorted_data.drop_duplicates(subset={\"UserId\",\"ProfileName\",\"Time\",\"Text\"}, keep='first', inplace=False)\n",
    "final.shape"
   ]
  },
  {
   "cell_type": "code",
   "execution_count": 9,
   "metadata": {
    "_uuid": "c941055068b082ebde46dc1d7085c3a0878b137f",
    "colab": {
     "base_uri": "https://localhost:8080/"
    },
    "id": "AwE1QRL4kNQ6",
    "outputId": "fb739ce7-a75f-4430-d6a5-2482134885fb"
   },
   "outputs": [
    {
     "data": {
      "text/plain": [
       "95.15"
      ]
     },
     "execution_count": 9,
     "metadata": {},
     "output_type": "execute_result"
    }
   ],
   "source": [
    "# no se encontraron columnas duplicadas\n",
    "(final['Id'].size*1.0)/(sample['Id'].size*1.0)*100"
   ]
  },
  {
   "cell_type": "code",
   "execution_count": 10,
   "metadata": {
    "_uuid": "2a52bd1a029123c7cdb42f4443d07d63f61cd78f",
    "colab": {
     "base_uri": "https://localhost:8080/"
    },
    "id": "-CaAhf3RkNQ6",
    "outputId": "8827a4a2-2fd4-466e-87e7-eca7a635562a"
   },
   "outputs": [
    {
     "name": "stdout",
     "output_type": "stream",
     "text": [
      "(9515, 10)\n"
     ]
    },
    {
     "data": {
      "text/plain": [
       "positive    8082\n",
       "negative    1433\n",
       "Name: Score, dtype: int64"
      ]
     },
     "execution_count": 10,
     "metadata": {},
     "output_type": "execute_result"
    }
   ],
   "source": [
    "final=final[final.HelpfulnessNumerator<=final.HelpfulnessDenominator]\n",
    "# Ayuda.. Num es siempre menor que Denom.. como Denom es gente que vota a favor y no vota\n",
    "#Before comprensión del preprocesamiento de texto permite ver el número de entradas restantes\n",
    "print(final.shape)\n",
    "\n",
    "# ¿Cuántas reseñas positivas y negativas hay en nuestro conjunto de datos?\n",
    "final['Score'].value_counts()\n",
    "\n",
    "# Después de eliminar filas duplicadas encontramos 336824 positivas y 57107 negativas."
   ]
  },
  {
   "cell_type": "code",
   "execution_count": 12,
   "metadata": {},
   "outputs": [
    {
     "data": {
      "text/plain": [
       "<Axes: xlabel='Score', ylabel='count'>"
      ]
     },
     "execution_count": 12,
     "metadata": {},
     "output_type": "execute_result"
    },
    {
     "data": {
      "image/png": "[encoded data removed]",
      "text/plain": [
       "<Figure size 640x480 with 1 Axes>"
      ]
     },
     "metadata": {},
     "output_type": "display_data"
    }
   ],
   "source": [
    "import seaborn as sns\n",
    "\n",
    "# Asumiendo que 'final' es tu DataFrame\n",
    "# Si aún no has importado Pandas, asegúrate de hacerlo.\n",
    "\n",
    "# Crea un gráfico de conteo utilizando Seaborn\n",
    "sns.countplot(data=final, x='Score')\n"
   ]
  },
  {
   "cell_type": "markdown",
   "metadata": {
    "_uuid": "d424e7b744fe2be8a5d2bee78fbf54f3c2e6ca1c",
    "id": "mJLDmWKkkNQ7"
   },
   "source": [
    "# Procesamiento de texto\n",
    "\n",
    "Para limpiar el texto eliminando reseñas de etiquetas HTML, palabras vacías para segregar y agregando marcas de tiempo"
   ]
  },
  {
   "cell_type": "code",
   "execution_count": 13,
   "metadata": {
    "_uuid": "a0c15a9fd788e3320b6940a8de82a60dd065a2a3",
    "colab": {
     "base_uri": "https://localhost:8080/"
    },
    "id": "7SEc7WU4kNQ7",
    "outputId": "3f35e771-f14c-495a-f115-905923df1855"
   },
   "outputs": [
    {
     "name": "stdout",
     "output_type": "stream",
     "text": [
      "1\n",
      "Why is this $[...] when the same product is available for $[...] here?<br />http://www.amazon.com/VICTOR-FLY-MAGNET-BAIT-REFILL/dp/B00004RBDY<br /><br />The Victor M380 and M502 traps are unreal, of course -- total fly genocide. Pretty stinky, but only right nearby.\n"
     ]
    }
   ],
   "source": [
    "# Encuentra oraciones que contengan etiquetas HTML\n",
    "import re\n",
    "i=0;\n",
    "for sent in final['Text'].values:\n",
    "    if (len(re.findall('<.*?>', sent))):\n",
    "        print(i)\n",
    "        print(sent)\n",
    "        break;\n",
    "    i += 1;"
   ]
  },
  {
   "cell_type": "code",
   "execution_count": 14,
   "metadata": {
    "_uuid": "df951cb6888aa7e6a8e1ecea90dc41e84bdf4e6c",
    "colab": {
     "base_uri": "https://localhost:8080/"
    },
    "id": "CIqqgo5ZkNQ7",
    "outputId": "e3ee2b5c-263d-4de1-cb0b-509e3027f8d2"
   },
   "outputs": [
    {
     "name": "stdout",
     "output_type": "stream",
     "text": [
      "{'about', 'myself', 'or', 'isn', 'did', 'ain', 'shouldn', 'that', 'd', 'are', 'because', 'll', 'weren', 'those', 'no', 'other', \"you've\", 'above', 'now', 'aren', 'been', 'off', 'at', 'mustn', 'against', 'its', 'is', \"hasn't\", \"shan't\", 'yourself', 'very', 'again', 'couldn', 'can', 'both', 'as', 'ours', \"hadn't\", 'same', 'his', 'through', 'which', 'not', \"you're\", 'to', \"you'd\", 'for', 'with', 'further', 'being', \"isn't\", 'of', 'then', 'wouldn', 'won', 'under', 'between', 'these', 'and', 'yours', \"weren't\", 'over', \"couldn't\", 'didn', 'a', 'where', 'who', \"won't\", \"it's\", 'my', 'but', 't', 'up', 'am', 'on', 'nor', 'by', 'how', 'whom', 'we', 'were', 'm', \"aren't\", \"wasn't\", 'me', 'down', 'any', 'having', 'our', 's', 'more', \"mustn't\", 'mightn', 'below', 'when', 'will', 'before', 'once', 've', 'don', 'so', \"wouldn't\", 'only', 'she', 'in', 'hadn', 'some', 'until', 'was', 're', 'out', \"you'll\", 'shan', 'after', 'here', 'needn', 'what', 'from', 'herself', 'him', 'does', 'wasn', 'ourselves', 'just', 'doesn', \"shouldn't\", 'than', 'her', 'most', 'your', 'their', 'i', 'why', \"needn't\", 'be', 'few', 'should', 'this', \"she's\", 'theirs', 'you', 'yourselves', 'himself', 'there', 'while', 'such', \"that'll\", \"doesn't\", 'the', 'ma', 'if', 'own', 'y', 'they', 'he', 'do', 'into', 'during', 'had', 'too', 'haven', 'has', 'hers', 'itself', 'themselves', 'it', \"should've\", \"haven't\", 'all', 'them', 'doing', 'have', \"don't\", 'o', \"didn't\", 'hasn', 'each', 'an', \"mightn't\"}\n",
      "************************************\n",
      "tasti\n"
     ]
    }
   ],
   "source": [
    "import nltk\n",
    "#nltk.download('stopwords')\n",
    "from nltk.corpus import stopwords\n",
    "sno = nltk.stem.SnowballStemmer('english') #initialising the snowball stemmer which is developed in recent years\n",
    "stop=set(stopwords.words('english'))\n",
    "def cleanhtml(sentence): #function to clean the word of any html-tags\n",
    "    cleanr = re.compile('<.*?>')\n",
    "    cleantext = re.sub(cleanr, ' ', sentence)\n",
    "    return cleantext\n",
    "def cleanpunc(sentence): #function to clean the word of any punctuation or special characters\n",
    "    cleaned = re.sub(r'[?|!|\\'|\"|#]',r'',sentence)\n",
    "    cleaned = re.sub(r'[.|,|)|(|\\|/]',r' ',cleaned)\n",
    "    return  cleaned\n",
    "print(stop)\n",
    "print('************************************')\n",
    "print(sno.stem('tasty'))"
   ]
  },
  {
   "cell_type": "code",
   "execution_count": 15,
   "metadata": {
    "_uuid": "ddb8bcb1d99775bae365536e32a92728b306a1f0",
    "id": "9bCvgNe7kNQ8"
   },
   "outputs": [],
   "source": [
    "i=0\n",
    "str1=' '\n",
    "final_string=[]\n",
    "all_positive_words=[] #almacene palabras de +ve reseñas aquí\n",
    "all_negative_words=[] #almacene palabras de -ve reseñas aquí\n",
    "s=''\n",
    "for sent in final['Text'].values:\n",
    "    filtered_sentence=[]\n",
    "    #print(sent);\n",
    "    sent=cleanhtml(sent) # Eliminar etiquetas HTML\n",
    "    for w in sent.split():\n",
    "        for cleaned_words in cleanpunc(w).split():\n",
    "            if((cleaned_words.isalpha()) & (len(cleaned_words)>2)):\n",
    "                if(cleaned_words.lower() not in stop):\n",
    "                    s=(sno.stem(cleaned_words.lower())).encode('utf8')\n",
    "                    filtered_sentence.append(s)\n",
    "                    if (final['Score'].values)[i] == 'positive':\n",
    "                        all_positive_words.append(s) # Lista de todas las palabras utilizadas para describir reseñas positivas\n",
    "                    if(final['Score'].values)[i] == 'negative':\n",
    "                        all_negative_words.append(s) # lista de todas las palabras utilizadas para describir reseñas negativas\n",
    "                else:\n",
    "                    continue\n",
    "            else:\n",
    "                continue\n",
    "    #print(filtered_sentence)\n",
    "    str1 = b\" \".join(filtered_sentence) # cadena final de palabras limpias\n",
    "    #print(\"***********************************************************************\")\n",
    "\n",
    "    final_string.append(str1)\n",
    "    i+=1"
   ]
  },
  {
   "cell_type": "code",
   "execution_count": 16,
   "metadata": {
    "_uuid": "368155a5dbb82479695879d98b44ee3709e086f2",
    "id": "RaE-I9J4kNQ9"
   },
   "outputs": [],
   "source": [
    "final['CleanedText']=final_string #agregar una columna de CleanedText que muestra los datos después del preprocesamiento de la revisión\n",
    "final['CleanedText']=final['CleanedText'].str.decode(\"utf-8\")"
   ]
  },
  {
   "cell_type": "code",
   "execution_count": 17,
   "metadata": {
    "_uuid": "c7679df66babf4b107d58866576c5b2f92a67d97",
    "colab": {
     "base_uri": "https://localhost:8080/"
    },
    "id": "2dhpG8WGkNQ-",
    "outputId": "1b8afebb-b5c1-4ab2-957e-26ee0adbf6ee"
   },
   "outputs": [
    {
     "data": {
      "text/plain": [
       "(9515, 11)"
      ]
     },
     "execution_count": 17,
     "metadata": {},
     "output_type": "execute_result"
    }
   ],
   "source": [
    "final.shape # columna de texto limpiada agregada"
   ]
  },
  {
   "cell_type": "code",
   "execution_count": 18,
   "metadata": {
    "_uuid": "85d54e3520926aebddbe5d66ef2e2e4c78feaac9",
    "colab": {
     "base_uri": "https://localhost:8080/",
     "height": 282
    },
    "id": "zICeVeT2kNQ_",
    "outputId": "91552132-346f-4825-b2ed-cd29c9bbfcc8"
   },
   "outputs": [
    {
     "data": {
      "text/html": [
       "<div>\n",
       "<style scoped>\n",
       "    .dataframe tbody tr th:only-of-type {\n",
       "        vertical-align: middle;\n",
       "    }\n",
       "\n",
       "    .dataframe tbody tr th {\n",
       "        vertical-align: top;\n",
       "    }\n",
       "\n",
       "    .dataframe thead th {\n",
       "        text-align: right;\n",
       "    }\n",
       "</style>\n",
       "<table border=\"1\" class=\"dataframe\">\n",
       "  <thead>\n",
       "    <tr style=\"text-align: right;\">\n",
       "      <th></th>\n",
       "      <th>Id</th>\n",
       "      <th>ProductId</th>\n",
       "      <th>UserId</th>\n",
       "      <th>ProfileName</th>\n",
       "      <th>HelpfulnessNumerator</th>\n",
       "      <th>HelpfulnessDenominator</th>\n",
       "      <th>Score</th>\n",
       "      <th>Time</th>\n",
       "      <th>Summary</th>\n",
       "      <th>Text</th>\n",
       "      <th>CleanedText</th>\n",
       "    </tr>\n",
       "  </thead>\n",
       "  <tbody>\n",
       "    <tr>\n",
       "      <th>2774</th>\n",
       "      <td>2775</td>\n",
       "      <td>B00002NCJC</td>\n",
       "      <td>A13RRPGE79XFFH</td>\n",
       "      <td>reader48</td>\n",
       "      <td>0</td>\n",
       "      <td>0</td>\n",
       "      <td>positive</td>\n",
       "      <td>1281052800</td>\n",
       "      <td>Flies Begone</td>\n",
       "      <td>We have used the Victor fly bait for 3 seasons...</td>\n",
       "      <td>use victor fli bait season cant beat great pro...</td>\n",
       "    </tr>\n",
       "    <tr>\n",
       "      <th>2773</th>\n",
       "      <td>2774</td>\n",
       "      <td>B00002NCJC</td>\n",
       "      <td>A196AJHU9EASJN</td>\n",
       "      <td>Alex Chaffee</td>\n",
       "      <td>0</td>\n",
       "      <td>0</td>\n",
       "      <td>positive</td>\n",
       "      <td>1282953600</td>\n",
       "      <td>thirty bucks?</td>\n",
       "      <td>Why is this $[...] when the same product is av...</td>\n",
       "      <td>product avail www amazon com victor trap unrea...</td>\n",
       "    </tr>\n",
       "    <tr>\n",
       "      <th>1243</th>\n",
       "      <td>1244</td>\n",
       "      <td>B00002Z754</td>\n",
       "      <td>A3B8RCEI0FXFI6</td>\n",
       "      <td>B G Chase</td>\n",
       "      <td>10</td>\n",
       "      <td>10</td>\n",
       "      <td>positive</td>\n",
       "      <td>962236800</td>\n",
       "      <td>WOW Make your own 'slickers' !</td>\n",
       "      <td>I just received my shipment and could hardly w...</td>\n",
       "      <td>receiv shipment could hard wait tri product lo...</td>\n",
       "    </tr>\n",
       "  </tbody>\n",
       "</table>\n",
       "</div>"
      ],
      "text/plain": [
       "        Id   ProductId          UserId   ProfileName  HelpfulnessNumerator  \\\n",
       "2774  2775  B00002NCJC  A13RRPGE79XFFH      reader48                     0   \n",
       "2773  2774  B00002NCJC  A196AJHU9EASJN  Alex Chaffee                     0   \n",
       "1243  1244  B00002Z754  A3B8RCEI0FXFI6     B G Chase                    10   \n",
       "\n",
       "      HelpfulnessDenominator     Score        Time  \\\n",
       "2774                       0  positive  1281052800   \n",
       "2773                       0  positive  1282953600   \n",
       "1243                      10  positive   962236800   \n",
       "\n",
       "                             Summary  \\\n",
       "2774                    Flies Begone   \n",
       "2773                   thirty bucks?   \n",
       "1243  WOW Make your own 'slickers' !   \n",
       "\n",
       "                                                   Text  \\\n",
       "2774  We have used the Victor fly bait for 3 seasons...   \n",
       "2773  Why is this $[...] when the same product is av...   \n",
       "1243  I just received my shipment and could hardly w...   \n",
       "\n",
       "                                            CleanedText  \n",
       "2774  use victor fli bait season cant beat great pro...  \n",
       "2773  product avail www amazon com victor trap unrea...  \n",
       "1243  receiv shipment could hard wait tri product lo...  "
      ]
     },
     "execution_count": 18,
     "metadata": {},
     "output_type": "execute_result"
    }
   ],
   "source": [
    "final.head(3) #debajo de la revisión procesada se puede ver en la columna CleanedText"
   ]
  },
  {
   "cell_type": "code",
   "execution_count": 19,
   "metadata": {
    "_uuid": "f5de930427a9175d44959c989ff3b76063991acd",
    "colab": {
     "base_uri": "https://localhost:8080/",
     "height": 466
    },
    "id": "M1PJE1DykNRA",
    "outputId": "4fc60c80-3649-4ef7-8b36-a150d90e5346"
   },
   "outputs": [
    {
     "data": {
      "text/html": [
       "<div>\n",
       "<style scoped>\n",
       "    .dataframe tbody tr th:only-of-type {\n",
       "        vertical-align: middle;\n",
       "    }\n",
       "\n",
       "    .dataframe tbody tr th {\n",
       "        vertical-align: top;\n",
       "    }\n",
       "\n",
       "    .dataframe thead th {\n",
       "        text-align: right;\n",
       "    }\n",
       "</style>\n",
       "<table border=\"1\" class=\"dataframe\">\n",
       "  <thead>\n",
       "    <tr style=\"text-align: right;\">\n",
       "      <th></th>\n",
       "      <th>Id</th>\n",
       "      <th>ProductId</th>\n",
       "      <th>UserId</th>\n",
       "      <th>ProfileName</th>\n",
       "      <th>HelpfulnessNumerator</th>\n",
       "      <th>HelpfulnessDenominator</th>\n",
       "      <th>Score</th>\n",
       "      <th>Time</th>\n",
       "      <th>Summary</th>\n",
       "      <th>Text</th>\n",
       "      <th>CleanedText</th>\n",
       "    </tr>\n",
       "  </thead>\n",
       "  <tbody>\n",
       "    <tr>\n",
       "      <th>2774</th>\n",
       "      <td>2775</td>\n",
       "      <td>B00002NCJC</td>\n",
       "      <td>A13RRPGE79XFFH</td>\n",
       "      <td>reader48</td>\n",
       "      <td>0</td>\n",
       "      <td>0</td>\n",
       "      <td>positive</td>\n",
       "      <td>1281052800</td>\n",
       "      <td>Flies Begone</td>\n",
       "      <td>We have used the Victor fly bait for 3 seasons...</td>\n",
       "      <td>use victor fli bait season cant beat great pro...</td>\n",
       "    </tr>\n",
       "    <tr>\n",
       "      <th>2773</th>\n",
       "      <td>2774</td>\n",
       "      <td>B00002NCJC</td>\n",
       "      <td>A196AJHU9EASJN</td>\n",
       "      <td>Alex Chaffee</td>\n",
       "      <td>0</td>\n",
       "      <td>0</td>\n",
       "      <td>positive</td>\n",
       "      <td>1282953600</td>\n",
       "      <td>thirty bucks?</td>\n",
       "      <td>Why is this $[...] when the same product is av...</td>\n",
       "      <td>product avail www amazon com victor trap unrea...</td>\n",
       "    </tr>\n",
       "    <tr>\n",
       "      <th>1243</th>\n",
       "      <td>1244</td>\n",
       "      <td>B00002Z754</td>\n",
       "      <td>A3B8RCEI0FXFI6</td>\n",
       "      <td>B G Chase</td>\n",
       "      <td>10</td>\n",
       "      <td>10</td>\n",
       "      <td>positive</td>\n",
       "      <td>962236800</td>\n",
       "      <td>WOW Make your own 'slickers' !</td>\n",
       "      <td>I just received my shipment and could hardly w...</td>\n",
       "      <td>receiv shipment could hard wait tri product lo...</td>\n",
       "    </tr>\n",
       "    <tr>\n",
       "      <th>1244</th>\n",
       "      <td>1245</td>\n",
       "      <td>B00002Z754</td>\n",
       "      <td>A29Z5PI9BW2PU3</td>\n",
       "      <td>Robbie</td>\n",
       "      <td>7</td>\n",
       "      <td>7</td>\n",
       "      <td>positive</td>\n",
       "      <td>961718400</td>\n",
       "      <td>Great Product</td>\n",
       "      <td>This was a really good idea and the final prod...</td>\n",
       "      <td>realli good idea final product outstand use de...</td>\n",
       "    </tr>\n",
       "    <tr>\n",
       "      <th>9524</th>\n",
       "      <td>9525</td>\n",
       "      <td>B00005V3DC</td>\n",
       "      <td>A2ZYCEEYBUQZND</td>\n",
       "      <td>Robby \"Robby C\"</td>\n",
       "      <td>5</td>\n",
       "      <td>7</td>\n",
       "      <td>positive</td>\n",
       "      <td>1176249600</td>\n",
       "      <td>Best herbal tea for digestion</td>\n",
       "      <td>If you're new to this product you need to be v...</td>\n",
       "      <td>your new product need care dosag strong batch ...</td>\n",
       "    </tr>\n",
       "  </tbody>\n",
       "</table>\n",
       "</div>"
      ],
      "text/plain": [
       "        Id   ProductId          UserId      ProfileName  HelpfulnessNumerator  \\\n",
       "2774  2775  B00002NCJC  A13RRPGE79XFFH         reader48                     0   \n",
       "2773  2774  B00002NCJC  A196AJHU9EASJN     Alex Chaffee                     0   \n",
       "1243  1244  B00002Z754  A3B8RCEI0FXFI6        B G Chase                    10   \n",
       "1244  1245  B00002Z754  A29Z5PI9BW2PU3           Robbie                     7   \n",
       "9524  9525  B00005V3DC  A2ZYCEEYBUQZND  Robby \"Robby C\"                     5   \n",
       "\n",
       "      HelpfulnessDenominator     Score        Time  \\\n",
       "2774                       0  positive  1281052800   \n",
       "2773                       0  positive  1282953600   \n",
       "1243                      10  positive   962236800   \n",
       "1244                       7  positive   961718400   \n",
       "9524                       7  positive  1176249600   \n",
       "\n",
       "                             Summary  \\\n",
       "2774                    Flies Begone   \n",
       "2773                   thirty bucks?   \n",
       "1243  WOW Make your own 'slickers' !   \n",
       "1244                   Great Product   \n",
       "9524   Best herbal tea for digestion   \n",
       "\n",
       "                                                   Text  \\\n",
       "2774  We have used the Victor fly bait for 3 seasons...   \n",
       "2773  Why is this $[...] when the same product is av...   \n",
       "1243  I just received my shipment and could hardly w...   \n",
       "1244  This was a really good idea and the final prod...   \n",
       "9524  If you're new to this product you need to be v...   \n",
       "\n",
       "                                            CleanedText  \n",
       "2774  use victor fli bait season cant beat great pro...  \n",
       "2773  product avail www amazon com victor trap unrea...  \n",
       "1243  receiv shipment could hard wait tri product lo...  \n",
       "1244  realli good idea final product outstand use de...  \n",
       "9524  your new product need care dosag strong batch ...  "
      ]
     },
     "execution_count": 19,
     "metadata": {},
     "output_type": "execute_result"
    }
   ],
   "source": [
    "# however, this is not required for clustering, just segregaring positive,negative and storing seperetly\n",
    "data_pos = final[final[\"Score\"] == \"positive\"]\n",
    "data_neg = final[final[\"Score\"] == \"negative\"]\n",
    "final = pd.concat([data_pos, data_neg])\n",
    "score =final[\"Score\"]\n",
    "final.head()\n"
   ]
  },
  {
   "cell_type": "code",
   "execution_count": 20,
   "metadata": {
    "_uuid": "8e9ba5a94375b22ae244352f87e3432f05115eff",
    "colab": {
     "base_uri": "https://localhost:8080/",
     "height": 414
    },
    "id": "mMfrK8NWkNRA",
    "outputId": "e0f92526-3955-4297-f4fb-16ce9ab8b679"
   },
   "outputs": [
    {
     "data": {
      "text/html": [
       "<div>\n",
       "<style scoped>\n",
       "    .dataframe tbody tr th:only-of-type {\n",
       "        vertical-align: middle;\n",
       "    }\n",
       "\n",
       "    .dataframe tbody tr th {\n",
       "        vertical-align: top;\n",
       "    }\n",
       "\n",
       "    .dataframe thead th {\n",
       "        text-align: right;\n",
       "    }\n",
       "</style>\n",
       "<table border=\"1\" class=\"dataframe\">\n",
       "  <thead>\n",
       "    <tr style=\"text-align: right;\">\n",
       "      <th></th>\n",
       "      <th>Id</th>\n",
       "      <th>ProductId</th>\n",
       "      <th>UserId</th>\n",
       "      <th>ProfileName</th>\n",
       "      <th>HelpfulnessNumerator</th>\n",
       "      <th>HelpfulnessDenominator</th>\n",
       "      <th>Score</th>\n",
       "      <th>Time</th>\n",
       "      <th>Summary</th>\n",
       "      <th>Text</th>\n",
       "      <th>CleanedText</th>\n",
       "    </tr>\n",
       "  </thead>\n",
       "  <tbody>\n",
       "    <tr>\n",
       "      <th>1244</th>\n",
       "      <td>1245</td>\n",
       "      <td>B00002Z754</td>\n",
       "      <td>A29Z5PI9BW2PU3</td>\n",
       "      <td>Robbie</td>\n",
       "      <td>7</td>\n",
       "      <td>7</td>\n",
       "      <td>positive</td>\n",
       "      <td>2000-06-23</td>\n",
       "      <td>Great Product</td>\n",
       "      <td>This was a really good idea and the final prod...</td>\n",
       "      <td>realli good idea final product outstand use de...</td>\n",
       "    </tr>\n",
       "    <tr>\n",
       "      <th>1243</th>\n",
       "      <td>1244</td>\n",
       "      <td>B00002Z754</td>\n",
       "      <td>A3B8RCEI0FXFI6</td>\n",
       "      <td>B G Chase</td>\n",
       "      <td>10</td>\n",
       "      <td>10</td>\n",
       "      <td>positive</td>\n",
       "      <td>2000-06-29</td>\n",
       "      <td>WOW Make your own 'slickers' !</td>\n",
       "      <td>I just received my shipment and could hardly w...</td>\n",
       "      <td>receiv shipment could hard wait tri product lo...</td>\n",
       "    </tr>\n",
       "    <tr>\n",
       "      <th>8110</th>\n",
       "      <td>8111</td>\n",
       "      <td>B0000EIE2Z</td>\n",
       "      <td>A3M174IC0VXOS2</td>\n",
       "      <td>Gail Cooke</td>\n",
       "      <td>3</td>\n",
       "      <td>3</td>\n",
       "      <td>positive</td>\n",
       "      <td>2004-01-30</td>\n",
       "      <td>BEST BLUEBERRIES</td>\n",
       "      <td>In the winter when fresh blueberries exceed ou...</td>\n",
       "      <td>winter fresh blueberri exceed food budget dri ...</td>\n",
       "    </tr>\n",
       "    <tr>\n",
       "      <th>3782</th>\n",
       "      <td>3783</td>\n",
       "      <td>B00016UX0K</td>\n",
       "      <td>AF1PV3DIC0XM7</td>\n",
       "      <td>Robert Ashton</td>\n",
       "      <td>1</td>\n",
       "      <td>2</td>\n",
       "      <td>positive</td>\n",
       "      <td>2004-04-10</td>\n",
       "      <td>Classic Condiment</td>\n",
       "      <td>Mae Ploy Sweet Chili Sauce is becoming a stand...</td>\n",
       "      <td>mae ploy sweet chili sauc becom standard condi...</td>\n",
       "    </tr>\n",
       "    <tr>\n",
       "      <th>7431</th>\n",
       "      <td>7432</td>\n",
       "      <td>B0001E1IME</td>\n",
       "      <td>A2IKCTD1I73PLW</td>\n",
       "      <td>Adeba</td>\n",
       "      <td>2</td>\n",
       "      <td>8</td>\n",
       "      <td>positive</td>\n",
       "      <td>2004-05-02</td>\n",
       "      <td>amazon monopoly/ripoff</td>\n",
       "      <td>love the snack.  wanted to buy a bunch.&lt;p&gt;ship...</td>\n",
       "      <td>love snack want buy bunch ship amazon price sn...</td>\n",
       "    </tr>\n",
       "  </tbody>\n",
       "</table>\n",
       "</div>"
      ],
      "text/plain": [
       "        Id   ProductId          UserId    ProfileName  HelpfulnessNumerator  \\\n",
       "1244  1245  B00002Z754  A29Z5PI9BW2PU3         Robbie                     7   \n",
       "1243  1244  B00002Z754  A3B8RCEI0FXFI6      B G Chase                    10   \n",
       "8110  8111  B0000EIE2Z  A3M174IC0VXOS2     Gail Cooke                     3   \n",
       "3782  3783  B00016UX0K   AF1PV3DIC0XM7  Robert Ashton                     1   \n",
       "7431  7432  B0001E1IME  A2IKCTD1I73PLW          Adeba                     2   \n",
       "\n",
       "      HelpfulnessDenominator     Score       Time  \\\n",
       "1244                       7  positive 2000-06-23   \n",
       "1243                      10  positive 2000-06-29   \n",
       "8110                       3  positive 2004-01-30   \n",
       "3782                       2  positive 2004-04-10   \n",
       "7431                       8  positive 2004-05-02   \n",
       "\n",
       "                             Summary  \\\n",
       "1244                   Great Product   \n",
       "1243  WOW Make your own 'slickers' !   \n",
       "8110                BEST BLUEBERRIES   \n",
       "3782               Classic Condiment   \n",
       "7431          amazon monopoly/ripoff   \n",
       "\n",
       "                                                   Text  \\\n",
       "1244  This was a really good idea and the final prod...   \n",
       "1243  I just received my shipment and could hardly w...   \n",
       "8110  In the winter when fresh blueberries exceed ou...   \n",
       "3782  Mae Ploy Sweet Chili Sauce is becoming a stand...   \n",
       "7431  love the snack.  wanted to buy a bunch.<p>ship...   \n",
       "\n",
       "                                            CleanedText  \n",
       "1244  realli good idea final product outstand use de...  \n",
       "1243  receiv shipment could hard wait tri product lo...  \n",
       "8110  winter fresh blueberri exceed food budget dri ...  \n",
       "3782  mae ploy sweet chili sauc becom standard condi...  \n",
       "7431  love snack want buy bunch ship amazon price sn...  "
      ]
     },
     "execution_count": 20,
     "metadata": {},
     "output_type": "execute_result"
    }
   ],
   "source": [
    "#Convertir el marco de tiempo y la clasificación en orden creciente para facilitar la facilidad\n",
    "final[\"Time\"] = pd.to_datetime(final[\"Time\"], unit = \"s\")\n",
    "final= final.sort_values(by = \"Time\")\n",
    "final.head()"
   ]
  },
  {
   "cell_type": "markdown",
   "metadata": {
    "_uuid": "949d47c499a755e85cb140197369782f2da15d2e",
    "id": "p44C5hqrkNRA"
   },
   "source": [
    "#  Clustering\n",
    "\n",
    "Encuentre modelos de agrupación para bolsa de palabras, frecuencia de términos/frecuencia de documentos inversa y promedio de palabra a vector"
   ]
  },
  {
   "cell_type": "markdown",
   "metadata": {
    "_uuid": "cd887599aabb6d597418777cb9e10fdb84d7e79e",
    "id": "QzNha9YDkNRA"
   },
   "source": [
    "### K means using bag of words"
   ]
  },
  {
   "cell_type": "code",
   "execution_count": 21,
   "metadata": {
    "_uuid": "08ac3f88f6d047719791bf6cdf2b513a83c4d547",
    "colab": {
     "base_uri": "https://localhost:8080/"
    },
    "id": "MJ_yx1n9kNRB",
    "outputId": "d6fbde87-4bbd-4684-bb3e-f56f2a786d46"
   },
   "outputs": [
    {
     "data": {
      "text/plain": [
       "(9515, 11778)"
      ]
     },
     "execution_count": 21,
     "metadata": {},
     "output_type": "execute_result"
    }
   ],
   "source": [
    "# Generación de funciones de bolsa de palabras.\n",
    "from sklearn.feature_extraction.text import CountVectorizer\n",
    "count_vect = CountVectorizer()\n",
    "bow = count_vect.fit_transform(final['CleanedText'].values)\n",
    "bow.shape\n"
   ]
  },
  {
   "cell_type": "code",
   "execution_count": 22,
   "metadata": {
    "_uuid": "5692669eb185fc58039f7b12d3986e3048cd68b2",
    "colab": {
     "base_uri": "https://localhost:8080/"
    },
    "id": "fnIxt3vckNRB",
    "outputId": "7263fa28-8341-4017-bdab-2fee0a6372b8"
   },
   "outputs": [
    {
     "data": {
      "text/plain": [
       "<9515x11778 sparse matrix of type '<class 'numpy.int64'>'\n",
       "\twith 292600 stored elements in Compressed Sparse Row format>"
      ]
     },
     "execution_count": 22,
     "metadata": {},
     "output_type": "execute_result"
    }
   ],
   "source": [
    "bow"
   ]
  },
  {
   "cell_type": "code",
   "execution_count": 23,
   "metadata": {},
   "outputs": [
    {
     "name": "stdout",
     "output_type": "stream",
     "text": [
      "Defaulting to user installation because normal site-packages is not writeable\n",
      "Requirement already satisfied: scikit-learn in c:\\programdata\\anaconda3\\lib\\site-packages (1.2.1)\n",
      "Requirement already satisfied: numpy>=1.17.3 in c:\\programdata\\anaconda3\\lib\\site-packages (from scikit-learn) (1.23.5)\n",
      "Requirement already satisfied: joblib>=1.1.1 in c:\\programdata\\anaconda3\\lib\\site-packages (from scikit-learn) (1.1.1)\n",
      "Requirement already satisfied: threadpoolctl>=2.0.0 in c:\\programdata\\anaconda3\\lib\\site-packages (from scikit-learn) (2.2.0)\n",
      "Requirement already satisfied: scipy>=1.3.2 in c:\\programdata\\anaconda3\\lib\\site-packages (from scikit-learn) (1.10.0)\n"
     ]
    }
   ],
   "source": [
    "!pip install scikit-learn"
   ]
  },
  {
   "cell_type": "code",
   "execution_count": 24,
   "metadata": {
    "_uuid": "18ec3e0527aa70059d8a6ac537f05052f19e9b7c",
    "id": "KSYemnsMkNRB"
   },
   "outputs": [],
   "source": [
    "# para entender qué tipo de palabras generadas como columnas por BOW\n",
    "terms = count_vect.get_feature_names_out()"
   ]
  },
  {
   "cell_type": "code",
   "execution_count": 25,
   "metadata": {
    "_uuid": "ca693ebd81f484ce90736e57630815d2a7962fbb",
    "colab": {
     "base_uri": "https://localhost:8080/"
    },
    "id": "_DCGSRPAkNRB",
    "outputId": "0ccce195-dcdd-4a4b-e673-9279f91a555d"
   },
   "outputs": [
    {
     "data": {
      "text/plain": [
       "array(['aahhh', 'aback', 'abandon', 'abat', 'abberlin', 'abbi', 'abbott',\n",
       "       'abdomin', 'abid'], dtype=object)"
      ]
     },
     "execution_count": 25,
     "metadata": {},
     "output_type": "execute_result"
    }
   ],
   "source": [
    "# primeras 10 columnas generadas por BOW\n",
    "terms[1:10]"
   ]
  },
  {
   "cell_type": "code",
   "execution_count": 26,
   "metadata": {
    "_uuid": "3121d26680118e8f63009594bd24a2cfb4889108",
    "colab": {
     "base_uri": "https://localhost:8080/",
     "height": 227
    },
    "id": "s5Au3Fm1kNRC",
    "outputId": "46f65641-8ed5-4cbe-8fff-8054462f2519"
   },
   "outputs": [
    {
     "name": "stderr",
     "output_type": "stream",
     "text": [
      "C:\\ProgramData\\anaconda3\\lib\\site-packages\\sklearn\\cluster\\_kmeans.py:870: FutureWarning: The default value of `n_init` will change from 10 to 'auto' in 1.4. Set the value of `n_init` explicitly to suppress the warning\n",
      "  warnings.warn(\n"
     ]
    },
    {
     "data": {
      "text/html": [
       "<style>#sk-container-id-1 {color: black;background-color: white;}#sk-container-id-1 pre{padding: 0;}#sk-container-id-1 div.sk-toggleable {background-color: white;}#sk-container-id-1 label.sk-toggleable__label {cursor: pointer;display: block;width: 100%;margin-bottom: 0;padding: 0.3em;box-sizing: border-box;text-align: center;}#sk-container-id-1 label.sk-toggleable__label-arrow:before {content: \"▸\";float: left;margin-right: 0.25em;color: #696969;}#sk-container-id-1 label.sk-toggleable__label-arrow:hover:before {color: black;}#sk-container-id-1 div.sk-estimator:hover label.sk-toggleable__label-arrow:before {color: black;}#sk-container-id-1 div.sk-toggleable__content {max-height: 0;max-width: 0;overflow: hidden;text-align: left;background-color: #f0f8ff;}#sk-container-id-1 div.sk-toggleable__content pre {margin: 0.2em;color: black;border-radius: 0.25em;background-color: #f0f8ff;}#sk-container-id-1 input.sk-toggleable__control:checked~div.sk-toggleable__content {max-height: 200px;max-width: 100%;overflow: auto;}#sk-container-id-1 input.sk-toggleable__control:checked~label.sk-toggleable__label-arrow:before {content: \"▾\";}#sk-container-id-1 div.sk-estimator input.sk-toggleable__control:checked~label.sk-toggleable__label {background-color: #d4ebff;}#sk-container-id-1 div.sk-label input.sk-toggleable__control:checked~label.sk-toggleable__label {background-color: #d4ebff;}#sk-container-id-1 input.sk-hidden--visually {border: 0;clip: rect(1px 1px 1px 1px);clip: rect(1px, 1px, 1px, 1px);height: 1px;margin: -1px;overflow: hidden;padding: 0;position: absolute;width: 1px;}#sk-container-id-1 div.sk-estimator {font-family: monospace;background-color: #f0f8ff;border: 1px dotted black;border-radius: 0.25em;box-sizing: border-box;margin-bottom: 0.5em;}#sk-container-id-1 div.sk-estimator:hover {background-color: #d4ebff;}#sk-container-id-1 div.sk-parallel-item::after {content: \"\";width: 100%;border-bottom: 1px solid gray;flex-grow: 1;}#sk-container-id-1 div.sk-label:hover label.sk-toggleable__label {background-color: #d4ebff;}#sk-container-id-1 div.sk-serial::before {content: \"\";position: absolute;border-left: 1px solid gray;box-sizing: border-box;top: 0;bottom: 0;left: 50%;z-index: 0;}#sk-container-id-1 div.sk-serial {display: flex;flex-direction: column;align-items: center;background-color: white;padding-right: 0.2em;padding-left: 0.2em;position: relative;}#sk-container-id-1 div.sk-item {position: relative;z-index: 1;}#sk-container-id-1 div.sk-parallel {display: flex;align-items: stretch;justify-content: center;background-color: white;position: relative;}#sk-container-id-1 div.sk-item::before, #sk-container-id-1 div.sk-parallel-item::before {content: \"\";position: absolute;border-left: 1px solid gray;box-sizing: border-box;top: 0;bottom: 0;left: 50%;z-index: -1;}#sk-container-id-1 div.sk-parallel-item {display: flex;flex-direction: column;z-index: 1;position: relative;background-color: white;}#sk-container-id-1 div.sk-parallel-item:first-child::after {align-self: flex-end;width: 50%;}#sk-container-id-1 div.sk-parallel-item:last-child::after {align-self: flex-start;width: 50%;}#sk-container-id-1 div.sk-parallel-item:only-child::after {width: 0;}#sk-container-id-1 div.sk-dashed-wrapped {border: 1px dashed gray;margin: 0 0.4em 0.5em 0.4em;box-sizing: border-box;padding-bottom: 0.4em;background-color: white;}#sk-container-id-1 div.sk-label label {font-family: monospace;font-weight: bold;display: inline-block;line-height: 1.2em;}#sk-container-id-1 div.sk-label-container {text-align: center;}#sk-container-id-1 div.sk-container {/* jupyter's `normalize.less` sets `[hidden] { display: none; }` but bootstrap.min.css set `[hidden] { display: none !important; }` so we also need the `!important` here to be able to override the default hidden behavior on the sphinx rendered scikit-learn.org. See: https://github.com/scikit-learn/scikit-learn/issues/21755 */display: inline-block !important;position: relative;}#sk-container-id-1 div.sk-text-repr-fallback {display: none;}</style><div id=\"sk-container-id-1\" class=\"sk-top-container\"><div class=\"sk-text-repr-fallback\"><pre>KMeans(n_clusters=10, random_state=99)</pre><b>In a Jupyter environment, please rerun this cell to show the HTML representation or trust the notebook. <br />On GitHub, the HTML representation is unable to render, please try loading this page with nbviewer.org.</b></div><div class=\"sk-container\" hidden><div class=\"sk-item\"><div class=\"sk-estimator sk-toggleable\"><input class=\"sk-toggleable__control sk-hidden--visually\" id=\"sk-estimator-id-1\" type=\"checkbox\" checked><label for=\"sk-estimator-id-1\" class=\"sk-toggleable__label sk-toggleable__label-arrow\">KMeans</label><div class=\"sk-toggleable__content\"><pre>KMeans(n_clusters=10, random_state=99)</pre></div></div></div></div></div>"
      ],
      "text/plain": [
       "KMeans(n_clusters=10, random_state=99)"
      ]
     },
     "execution_count": 26,
     "metadata": {},
     "output_type": "execute_result"
    }
   ],
   "source": [
    "#usando todos los procesos trabajos = -1 y k significa ++ para iniciar la ventaja de inicialización\n",
    "from sklearn.cluster import KMeans\n",
    "model = KMeans(n_clusters = 10,init='k-means++', random_state=99)\n",
    "model.fit(bow)"
   ]
  },
  {
   "cell_type": "code",
   "execution_count": 27,
   "metadata": {
    "_uuid": "6199151d44d775e1a7d57819acbaa8b3fec7fca5",
    "id": "FoJSVB6hkNRC"
   },
   "outputs": [],
   "source": [
    "labels = model.labels_\n",
    "cluster_center=model.cluster_centers_"
   ]
  },
  {
   "cell_type": "code",
   "execution_count": 28,
   "metadata": {
    "_uuid": "a9b06f05923f4f167c011aa7793e65fb92fe5d97",
    "id": "YbWw3EhakNRC"
   },
   "outputs": [
    {
     "data": {
      "text/plain": [
       "array([[0.        , 0.        , 0.        , ..., 0.02688172, 0.        ,\n",
       "        0.        ],\n",
       "       [0.        , 0.00014899, 0.00014899, ..., 0.00253278, 0.00014899,\n",
       "        0.00014899],\n",
       "       [0.        , 0.        , 0.        , ..., 0.        , 0.        ,\n",
       "        0.        ],\n",
       "       ...,\n",
       "       [0.0018622 , 0.        , 0.        , ..., 0.01303538, 0.        ,\n",
       "        0.        ],\n",
       "       [0.        , 0.        , 0.        , ..., 0.        , 0.        ,\n",
       "        0.        ],\n",
       "       [0.        , 0.        , 0.        , ..., 0.        , 0.        ,\n",
       "        0.        ]])"
      ]
     },
     "execution_count": 28,
     "metadata": {},
     "output_type": "execute_result"
    }
   ],
   "source": [
    "cluster_center"
   ]
  },
  {
   "cell_type": "code",
   "execution_count": 29,
   "metadata": {
    "_uuid": "fa134ac51f96b991bf3b9401b8d26c364a4f3d7f",
    "id": "pxAmBRmkkNRC"
   },
   "outputs": [],
   "source": [
    "from sklearn import metrics\n",
    "silhouette_score = metrics.silhouette_score(bow, labels, metric='euclidean')"
   ]
  },
  {
   "cell_type": "code",
   "execution_count": 30,
   "metadata": {
    "_uuid": "87f62c820f2f74c56a3d1ae7daed54db5c2468e3",
    "id": "5vWPHMZPkNRD"
   },
   "outputs": [
    {
     "data": {
      "text/plain": [
       "0.061839032919513134"
      ]
     },
     "execution_count": 30,
     "metadata": {},
     "output_type": "execute_result"
    }
   ],
   "source": [
    "# que nos dice que los clusters están lejos unos de otros\n",
    "silhouette_score"
   ]
  },
  {
   "cell_type": "code",
   "execution_count": 31,
   "metadata": {
    "_uuid": "32bc4d90b70f0826f864d89c8c4bff75a9083622",
    "id": "zE7mSfS5kNRD"
   },
   "outputs": [
    {
     "data": {
      "text/html": [
       "<div>\n",
       "<style scoped>\n",
       "    .dataframe tbody tr th:only-of-type {\n",
       "        vertical-align: middle;\n",
       "    }\n",
       "\n",
       "    .dataframe tbody tr th {\n",
       "        vertical-align: top;\n",
       "    }\n",
       "\n",
       "    .dataframe thead th {\n",
       "        text-align: right;\n",
       "    }\n",
       "</style>\n",
       "<table border=\"1\" class=\"dataframe\">\n",
       "  <thead>\n",
       "    <tr style=\"text-align: right;\">\n",
       "      <th></th>\n",
       "      <th>Id</th>\n",
       "      <th>ProductId</th>\n",
       "      <th>UserId</th>\n",
       "      <th>ProfileName</th>\n",
       "      <th>HelpfulnessNumerator</th>\n",
       "      <th>HelpfulnessDenominator</th>\n",
       "      <th>Score</th>\n",
       "      <th>Time</th>\n",
       "      <th>Summary</th>\n",
       "      <th>Text</th>\n",
       "      <th>CleanedText</th>\n",
       "      <th>Bow Clus Label</th>\n",
       "    </tr>\n",
       "  </thead>\n",
       "  <tbody>\n",
       "    <tr>\n",
       "      <th>1244</th>\n",
       "      <td>1245</td>\n",
       "      <td>B00002Z754</td>\n",
       "      <td>A29Z5PI9BW2PU3</td>\n",
       "      <td>Robbie</td>\n",
       "      <td>7</td>\n",
       "      <td>7</td>\n",
       "      <td>positive</td>\n",
       "      <td>2000-06-23</td>\n",
       "      <td>Great Product</td>\n",
       "      <td>This was a really good idea and the final prod...</td>\n",
       "      <td>realli good idea final product outstand use de...</td>\n",
       "      <td>1</td>\n",
       "    </tr>\n",
       "    <tr>\n",
       "      <th>1243</th>\n",
       "      <td>1244</td>\n",
       "      <td>B00002Z754</td>\n",
       "      <td>A3B8RCEI0FXFI6</td>\n",
       "      <td>B G Chase</td>\n",
       "      <td>10</td>\n",
       "      <td>10</td>\n",
       "      <td>positive</td>\n",
       "      <td>2000-06-29</td>\n",
       "      <td>WOW Make your own 'slickers' !</td>\n",
       "      <td>I just received my shipment and could hardly w...</td>\n",
       "      <td>receiv shipment could hard wait tri product lo...</td>\n",
       "      <td>1</td>\n",
       "    </tr>\n",
       "  </tbody>\n",
       "</table>\n",
       "</div>"
      ],
      "text/plain": [
       "        Id   ProductId          UserId ProfileName  HelpfulnessNumerator  \\\n",
       "1244  1245  B00002Z754  A29Z5PI9BW2PU3      Robbie                     7   \n",
       "1243  1244  B00002Z754  A3B8RCEI0FXFI6   B G Chase                    10   \n",
       "\n",
       "      HelpfulnessDenominator     Score       Time  \\\n",
       "1244                       7  positive 2000-06-23   \n",
       "1243                      10  positive 2000-06-29   \n",
       "\n",
       "                             Summary  \\\n",
       "1244                   Great Product   \n",
       "1243  WOW Make your own 'slickers' !   \n",
       "\n",
       "                                                   Text  \\\n",
       "1244  This was a really good idea and the final prod...   \n",
       "1243  I just received my shipment and could hardly w...   \n",
       "\n",
       "                                            CleanedText  Bow Clus Label  \n",
       "1244  realli good idea final product outstand use de...               1  \n",
       "1243  receiv shipment could hard wait tri product lo...               1  "
      ]
     },
     "execution_count": 31,
     "metadata": {},
     "output_type": "execute_result"
    }
   ],
   "source": [
    "# Dar etiquetas/asignar un grupo a cada punto/texto\n",
    "df = final\n",
    "df['Bow Clus Label'] = model.labels_ # the last column you can see the label numebers\n",
    "df.head(2)"
   ]
  },
  {
   "cell_type": "code",
   "execution_count": 32,
   "metadata": {
    "_uuid": "e73165ead78e39fd97d32c33f325d3781b2e5d84",
    "id": "jAxgBfnQkNRD"
   },
   "outputs": [
    {
     "data": {
      "text/plain": [
       "Bow Clus Label\n",
       "0     186\n",
       "1    6712\n",
       "2     104\n",
       "3     185\n",
       "4     642\n",
       "5       6\n",
       "6     960\n",
       "7     537\n",
       "8     182\n",
       "9       1\n",
       "Name: Text, dtype: int64"
      ]
     },
     "execution_count": 32,
     "metadata": {},
     "output_type": "execute_result"
    }
   ],
   "source": [
    "# How many points belong to each cluster -> using group by in pandas\n",
    "df.groupby(['Bow Clus Label'])['Text'].count()"
   ]
  },
  {
   "cell_type": "code",
   "execution_count": 34,
   "metadata": {
    "_uuid": "b581a13e7df638f447a62513ba5b77819e729f62",
    "id": "mImRQwyIkNRD"
   },
   "outputs": [
    {
     "name": "stdout",
     "output_type": "stream",
     "text": [
      "Top terms per cluster:\n",
      "Cluster 0: food\n",
      " dog\n",
      " cat\n",
      " eat\n",
      " one\n",
      " like\n",
      " love\n",
      " tri\n",
      " year\n",
      " get\n",
      "Cluster 1: love\n",
      " great\n",
      " good\n",
      " product\n",
      " tast\n",
      " like\n",
      " flavor\n",
      " use\n",
      " one\n",
      " tri\n",
      "Cluster 2: coffe\n",
      " cup\n",
      " flavor\n",
      " tast\n",
      " like\n",
      " use\n",
      " tri\n",
      " good\n",
      " brew\n",
      " one\n",
      "Cluster 3: tea\n",
      " flavor\n",
      " tast\n",
      " green\n",
      " like\n",
      " drink\n",
      " use\n",
      " tri\n",
      " water\n",
      " bag\n",
      "Cluster 4: coffe\n",
      " cup\n",
      " tast\n",
      " flavor\n",
      " like\n",
      " good\n",
      " use\n",
      " tri\n",
      " one\n",
      " great\n",
      "Cluster 5: chip\n",
      " kettl\n",
      " brand\n",
      " potato\n",
      " bag\n",
      " also\n",
      " flavor\n",
      " flavour\n",
      " product\n",
      " honey\n",
      "Cluster 6: like\n",
      " tast\n",
      " flavor\n",
      " chip\n",
      " tri\n",
      " good\n",
      " one\n",
      " realli\n",
      " bag\n",
      " dont\n",
      "Cluster 7: use\n",
      " product\n",
      " make\n",
      " like\n",
      " one\n",
      " mix\n",
      " good\n",
      " tast\n",
      " get\n",
      " tri\n",
      "Cluster 8: juic\n",
      " drink\n",
      " orang\n",
      " soda\n",
      " tast\n",
      " like\n",
      " flavor\n",
      " sugar\n",
      " carbon\n",
      " switch\n",
      "Cluster 9: point\n",
      " box\n",
      " gentl\n",
      " knife\n",
      " edg\n",
      " corner\n",
      " upon\n",
      " top\n",
      " slit\n",
      " may\n"
     ]
    }
   ],
   "source": [
    "#Refrence credit - to find the top 10 features of cluster centriod\n",
    "#https://stackoverflow.com/questions/47452119/kmean-clustering-top-terms-in-cluster\n",
    "print(\"Top terms per cluster:\")\n",
    "order_centroids = model.cluster_centers_.argsort()[:, ::-1]\n",
    "#terms = count_vect.get_feature_names()\n",
    "terms = count_vect.get_feature_names_out()\n",
    "for i in range(10):\n",
    "    print(\"Cluster %d:\" % i, end='')\n",
    "    for ind in order_centroids[i, :10]:\n",
    "        print(' %s' % terms[ind], end='')\n",
    "        print()"
   ]
  },
  {
   "cell_type": "code",
   "execution_count": 35,
   "metadata": {
    "_uuid": "6f25e4f3ae5486e46783287ede90081f90b3ff8b",
    "id": "PEqwAhpykNRE"
   },
   "outputs": [
    {
     "data": {
      "image/png": "[encoded data removed]",
      "text/plain": [
       "<Figure size 640x480 with 1 Axes>"
      ]
     },
     "metadata": {},
     "output_type": "display_data"
    }
   ],
   "source": [
    "# visually how points or reviews are distributed across 10 clusters\n",
    "import matplotlib.pyplot as plt\n",
    "plt.bar([x for x in range(10)], df.groupby(['Bow Clus Label'])['Text'].count(), alpha = 0.4)\n",
    "plt.title('KMeans cluster points')\n",
    "plt.xlabel(\"Cluster number\")\n",
    "plt.ylabel(\"Number of points\")\n",
    "plt.show()"
   ]
  },
  {
   "cell_type": "code",
   "execution_count": 36,
   "metadata": {
    "_uuid": "b5ec6fdbac66547aa264d4fb3857ed6c3e1d0ff2",
    "id": "9U1gnnTskNRF"
   },
   "outputs": [
    {
     "name": "stdout",
     "output_type": "stream",
     "text": [
      "A review of assigned to cluster  0\n",
      "----------------------------------------------------------------------\n",
      "I love my garlic spray so much, that i ordered more! I grow garlic, but I don't even bother juicing them anymore, not with this product. There are 150 cloves in every bottle. Thats a lot of yummy garlic...\n",
      "\n",
      "\n",
      "______________________________________________________________________\n",
      "A review of assigned to cluster  1\n",
      "----------------------------------------------------------------------\n",
      "If you want a quick pick me up that is not full of added sugar, then this is a refreshing alternative to a soda. The flavor is more heavily tangerine (which only makes sense). It isn't overly sweet, which is a good thing.\n",
      "\n",
      "\n",
      "______________________________________________________________________\n",
      "A review of assigned to cluster  2\n",
      "----------------------------------------------------------------------\n",
      "Great product for the price. Only negative would be the packaging. Since I keep mine in the freezer a single package of 24 or 30 or whatever would be sufficient. I make \"Chocaluah\", a coffee-chocolate liquor for adult use as a syrup over ice cream. These beans add additional depth to the flavor of the sauce.\n",
      "\n",
      "\n",
      "______________________________________________________________________\n",
      "A review of assigned to cluster  3\n",
      "----------------------------------------------------------------------\n",
      "gave these as a gift to my brother. we are both fans of hot sauces so i thought i'd give this a try.  the wooden packaging looked nice and was sturdy enough that it could be used for storage/transport of the sauces.<br />my brother says that he liked the sauces, he would not share with me on chirstmas day so i never got a chance to try them.\n",
      "\n",
      "\n",
      "______________________________________________________________________\n",
      "A review of assigned to cluster  4\n",
      "----------------------------------------------------------------------\n",
      "Pamela's Baking and Pancake Mix is very, very good.  However, know when you order in the small packages you are not getting the baking mix.  You are getting individual (or for two people) servings of pancake and waffle mix.  This formula is different than that for the larger packages of Baking and Pancake Mix and does not make biscuits, muffins, or other short breads very well, too sweet for my taste.  If you are looking for great tasting pancake or waffles in a smaller package, then this is for you.  If you are looking for a great baking mix as well as pancakes and waffles, then get the larger packages.\n",
      "\n",
      "\n",
      "______________________________________________________________________\n",
      "A review of assigned to cluster  5\n",
      "----------------------------------------------------------------------\n",
      "I have tried a lot of S&V chips and these are the best!  Real sea salt and REAL vinegar!  Mouth-watering flavor & crispiness.  Not for the faint of heart - the flavor is very authentic!  :)\n",
      "\n",
      "\n",
      "______________________________________________________________________\n",
      "A review of assigned to cluster  6\n",
      "----------------------------------------------------------------------\n",
      "These wonderful cups, filters, lids saved me from returning my new single cup coffee maker.  Tried many K-cup brands and blends and didn't care for any of them.  Nor did I like my own coffee option that came with the coffee maker.  The disposa-kups are just what I needed to get a good cup of my own coffee from my new coffee maker.  Would recommend and will order again.  Received in 3 days during Christmas rush!\n",
      "\n",
      "\n",
      "______________________________________________________________________\n",
      "A review of assigned to cluster  7\n",
      "----------------------------------------------------------------------\n",
      "I started adding chia seeds to my diet about 18 months ago.  I have tried various brands and like the Navitas Naturals brand the best of the 4 or 5 brands I have tried.  Not sure if the \"organic\" promises they provide are absolutely true, but as a consumer of several Navitas Naturals products I certainly hope so.  In any event, it beats buying some of the bulk chia seeds I have found at local stores with little or no explanation of where the seeds really come from.<br /><br />In all, I find chia seeds rather tasteless.  The joy in eating them, if there is any, is in the texture / crunch they provide.  Some other brands had what I assume was foreign matter, which made the texture uneven or, worse, hard like having little rocks in the mix.<br /><br />My motivation for adding them to my diet was to increase my Omega 3 intake from plant sources and add more fiber as well.  I have noticed improvement in my overall health since eating them, but I can't say for sure if chia played any role in that because I changed my diet in many other ways and greatly increased my work out schedule.  Just to be safe, I'm going to continue eating chia every morning and adding it as often as possible for other meals throughout the day.<br /><br />As a very happy customer, I plan on continuing my subscription to Navitas Naturals Chia Seeds for a long time.\n",
      "\n",
      "\n",
      "______________________________________________________________________\n",
      "A review of assigned to cluster  8\n",
      "----------------------------------------------------------------------\n",
      "I highly recommend this product.  Can't beat the calorie count.  My favorite use is putting natural crunchy peanut butter and blackberry jam between two pieces.  Also great with cheese.  Healthy product.\n",
      "\n",
      "\n",
      "______________________________________________________________________\n",
      "A review of assigned to cluster  9\n",
      "----------------------------------------------------------------------\n",
      "I am not going to lie. I will give you the strait dope. These things are like crack.<br /><br />I will polish off about 4-5 pages of these EASILY in a day (hence the freshman 50! that I have gained!) lol.<br /><br />If you love these, I suggest balancing them out with some kind of carb blocker.\n",
      "\n",
      "\n",
      "______________________________________________________________________\n"
     ]
    }
   ],
   "source": [
    "# Reading a review which belong to each group.\n",
    "for i in range(10):\n",
    "    print(\"A review of assigned to cluster \", i)\n",
    "    print(\"-\" * 70)\n",
    "    print(df.iloc[df.groupby(['Bow Clus Label']).groups[i][0]]['Text'])\n",
    "    print('\\n')\n",
    "    print(\"_\" * 70)"
   ]
  },
  {
   "cell_type": "code",
   "execution_count": 37,
   "metadata": {
    "_uuid": "8dd6e5b81eabe1715e69eca3281343ad4b5220ab",
    "id": "e0UniWEKkNRF"
   },
   "outputs": [
    {
     "name": "stdout",
     "output_type": "stream",
     "text": [
      "These DisposaKups work great.  I simply fill up a dozen or more with my favorite flavored coffee, and I'm good to go.  It's a great alternative to buying the expensive pre-filled K-cups; not only were the pre-filled K-cups expensive, but they don't offer my favorite coffee blends.  I was using the reusable K-cup filters which are quite expensive to purchase, so I only had 2 & they leaked while brewing & were messy to empty and wash to re-use.  The DisposaKups work much better--just as well as the pre-filled K-cups, no leaks, no mess!  And I can re-use them again if I want by throwing out the filter, rinsing, & using a fresh filter (just have to line up the holes).  Great product! I highly recommend it.  I love my coffee machine again.\n",
      "______________________________________________________________________\n",
      "We were running out of vanilla. I'd made my own before using vanilla beans and vodka, and the price of these was far cheaper than getting them locally. I figured it was worth a shot.<br /><br />I'm not sure what I was thinking, but half a pound of vanilla beans works out to something like 50 of them. It's hard to picture 50 vanilla beans, but this would be a good order to go in halves on with someone. Or quarters.<br /><br />The aroma is incredible. It's been a couple of months since we originally opened them, and our pantry still smells like vanilla, even though they are wrapped in two ziploc bags.<br /><br />As for the vanilla itself, it is fantastic. If you've never tried vanilla produced yourself, you are absolutely missing out. There is a distinct and definite difference between homemade and what you buy at the store.<br /><br />Do yourself a favor, hit \"add to cart\" and check out. You'll be glad you did.\n",
      "______________________________________________________________________\n",
      "I didn't want caffeine, don't want the high calories & went through MANY types of energy chews / gels / drinks online to see what would be the best option for myself.<br /><br />I LOVE the honey stingers!  No caffeine, calories can be controlled depending on how many pieces you take, and most importantly, it lasted me through my marathon trainings :)<br /><br />Fruit smoothy is delicious.  Haven't tried the other flavors.\n"
     ]
    }
   ],
   "source": [
    "#considers sample of 3 random reviews for cluster 0\n",
    "\n",
    "print(df.iloc[df.groupby(['Bow Clus Label']).groups[0][3]]['Text'])\n",
    "print(\"_\" * 70)\n",
    "print(df.iloc[df.groupby(['Bow Clus Label']).groups[0][15]]['Text'])\n",
    "print(\"_\" * 70)\n",
    "print(df.iloc[df.groupby(['Bow Clus Label']).groups[0][25]]['Text'])"
   ]
  },
  {
   "cell_type": "code",
   "execution_count": 38,
   "metadata": {
    "_uuid": "7b8f2e6ed10a809d77bb7df5a95a2416cb7b2e13",
    "id": "r_eNlj2TkNRG"
   },
   "outputs": [
    {
     "name": "stdout",
     "output_type": "stream",
     "text": [
      "How many ways can you say \"YUM!\" ?  It's a delicious way to wake up in the morning--or to enjoy any time of the day.\n",
      "______________________________________________________________________\n",
      "Purchased two liters... looking for an oil to put in salads, on bread, etc... something with a strong flavor of olive oil... this is NOT it.  This is good for cooking... has little flavor.\n",
      "______________________________________________________________________\n",
      "I had pretty high hopes for the Busy Bone. I have a large, active chewer (the kind of dog that has to have several bones to choose from all the time if you don't want her to chew up your bed frame). I was hoping that with the Busy Bone's 'long-lasting' promise, I might be able to just give her one of these and at least have time to wash the dishes. Why don't I describe what happened next...<br />I was in the kitchen washing the dishes. It had been about fifteen minutes since I'd given the dog the bone. Deeply absorbed in annoyance with myself for not rinsing said dishes, I was scrubbing vigorously when an awful sound met my ears: a terrible and hauntingly familiar crunching noise. The dog was eating my bed. So I go into the bedroom to scold her and even before I get a chance to look at the bed frame, I am struck by the mess she has caused. The Busy Bone somehow leaves little brown crumbles ALL over the floor. Too small and numerous to pick up by hand and too gushy for the vacuum cleaner to clean up, the oobleck has to be washed out of the carpet with a dish rag. And did I mention that they're expensive?<br />I will continue to stick with real bones that I purchase from the butcher. They're cheaper, they last longer, and they don't leave a terrible mess.\n"
     ]
    }
   ],
   "source": [
    "#consider sample of 3 random reviews for cluster 4\n",
    "\n",
    "print(df.iloc[df.groupby(['Bow Clus Label']).groups[3][3]]['Text'])\n",
    "print(\"_\" * 70)\n",
    "print(df.iloc[df.groupby(['Bow Clus Label']).groups[3][15]]['Text'])\n",
    "print(\"_\" * 70)\n",
    "print(df.iloc[df.groupby(['Bow Clus Label']).groups[3][25]]['Text'])"
   ]
  },
  {
   "cell_type": "code",
   "execution_count": 39,
   "metadata": {
    "_uuid": "4571be58396b0c3f39b986760b991c1922a02953",
    "id": "14OwBPqhkNRG"
   },
   "outputs": [
    {
     "name": "stdout",
     "output_type": "stream",
     "text": [
      "My cat LOVES Fancy Feast cat food; and this variety pack in particular makes mealtime a veritable newsworthy event! He always eats it down and he loves it; I can tell.<br /><br />You get eight cans of Ocean Whitefish & Tuna Feast; eight more cans of Savory Salmon Feast with Cod and eight more cans still of Sole & Shrimp Feast. Very good!<br /><br />The food does have some nutritional content; I always look for that when I buy food for the cat. There's some vitamin E, A, D3, B12, and B1. I like that. Naturally, ask your vet if you have any concerns about your cat's personal individual needs for nutritional content in their daily diet.<br /><br />If you catch a sale on this, stock up! However, I would use these cans of food within six months of buying them.<br /><br />Overall, this is one of the better brands of cat food out there; and I recommend it. Your cat will love it and it has nutritional content which is great for them, too.\n",
      "______________________________________________________________________\n"
     ]
    },
    {
     "ename": "IndexError",
     "evalue": "index 15 is out of bounds for axis 0 with size 6",
     "output_type": "error",
     "traceback": [
      "\u001b[1;31m---------------------------------------------------------------------------\u001b[0m",
      "\u001b[1;31mIndexError\u001b[0m                                Traceback (most recent call last)",
      "Cell \u001b[1;32mIn[39], line 5\u001b[0m\n\u001b[0;32m      3\u001b[0m \u001b[38;5;28mprint\u001b[39m(df\u001b[38;5;241m.\u001b[39miloc[df\u001b[38;5;241m.\u001b[39mgroupby([\u001b[38;5;124m'\u001b[39m\u001b[38;5;124mBow Clus Label\u001b[39m\u001b[38;5;124m'\u001b[39m])\u001b[38;5;241m.\u001b[39mgroups[\u001b[38;5;241m5\u001b[39m][\u001b[38;5;241m3\u001b[39m]][\u001b[38;5;124m'\u001b[39m\u001b[38;5;124mText\u001b[39m\u001b[38;5;124m'\u001b[39m])\n\u001b[0;32m      4\u001b[0m \u001b[38;5;28mprint\u001b[39m(\u001b[38;5;124m\"\u001b[39m\u001b[38;5;124m_\u001b[39m\u001b[38;5;124m\"\u001b[39m \u001b[38;5;241m*\u001b[39m \u001b[38;5;241m70\u001b[39m)\n\u001b[1;32m----> 5\u001b[0m \u001b[38;5;28mprint\u001b[39m(df\u001b[38;5;241m.\u001b[39miloc[\u001b[43mdf\u001b[49m\u001b[38;5;241;43m.\u001b[39;49m\u001b[43mgroupby\u001b[49m\u001b[43m(\u001b[49m\u001b[43m[\u001b[49m\u001b[38;5;124;43m'\u001b[39;49m\u001b[38;5;124;43mBow Clus Label\u001b[39;49m\u001b[38;5;124;43m'\u001b[39;49m\u001b[43m]\u001b[49m\u001b[43m)\u001b[49m\u001b[38;5;241;43m.\u001b[39;49m\u001b[43mgroups\u001b[49m\u001b[43m[\u001b[49m\u001b[38;5;241;43m5\u001b[39;49m\u001b[43m]\u001b[49m\u001b[43m[\u001b[49m\u001b[38;5;241;43m15\u001b[39;49m\u001b[43m]\u001b[49m][\u001b[38;5;124m'\u001b[39m\u001b[38;5;124mText\u001b[39m\u001b[38;5;124m'\u001b[39m])\n\u001b[0;32m      6\u001b[0m \u001b[38;5;28mprint\u001b[39m(\u001b[38;5;124m\"\u001b[39m\u001b[38;5;124m_\u001b[39m\u001b[38;5;124m\"\u001b[39m \u001b[38;5;241m*\u001b[39m \u001b[38;5;241m70\u001b[39m)\n\u001b[0;32m      7\u001b[0m \u001b[38;5;28mprint\u001b[39m(df\u001b[38;5;241m.\u001b[39miloc[df\u001b[38;5;241m.\u001b[39mgroupby([\u001b[38;5;124m'\u001b[39m\u001b[38;5;124mBow Clus Label\u001b[39m\u001b[38;5;124m'\u001b[39m])\u001b[38;5;241m.\u001b[39mgroups[\u001b[38;5;241m5\u001b[39m][\u001b[38;5;241m25\u001b[39m]][\u001b[38;5;124m'\u001b[39m\u001b[38;5;124mText\u001b[39m\u001b[38;5;124m'\u001b[39m])\n",
      "File \u001b[1;32mC:\\ProgramData\\anaconda3\\lib\\site-packages\\pandas\\core\\indexes\\base.py:5320\u001b[0m, in \u001b[0;36mIndex.__getitem__\u001b[1;34m(self, key)\u001b[0m\n\u001b[0;32m   5317\u001b[0m \u001b[38;5;28;01mif\u001b[39;00m is_integer(key) \u001b[38;5;129;01mor\u001b[39;00m is_float(key):\n\u001b[0;32m   5318\u001b[0m     \u001b[38;5;66;03m# GH#44051 exclude bool, which would return a 2d ndarray\u001b[39;00m\n\u001b[0;32m   5319\u001b[0m     key \u001b[38;5;241m=\u001b[39m com\u001b[38;5;241m.\u001b[39mcast_scalar_indexer(key, warn_float\u001b[38;5;241m=\u001b[39m\u001b[38;5;28;01mTrue\u001b[39;00m)\n\u001b[1;32m-> 5320\u001b[0m     \u001b[38;5;28;01mreturn\u001b[39;00m \u001b[43mgetitem\u001b[49m\u001b[43m(\u001b[49m\u001b[43mkey\u001b[49m\u001b[43m)\u001b[49m\n\u001b[0;32m   5322\u001b[0m \u001b[38;5;28;01mif\u001b[39;00m \u001b[38;5;28misinstance\u001b[39m(key, \u001b[38;5;28mslice\u001b[39m):\n\u001b[0;32m   5323\u001b[0m     \u001b[38;5;66;03m# This case is separated from the conditional above to avoid\u001b[39;00m\n\u001b[0;32m   5324\u001b[0m     \u001b[38;5;66;03m# pessimization com.is_bool_indexer and ndim checks.\u001b[39;00m\n\u001b[0;32m   5325\u001b[0m     result \u001b[38;5;241m=\u001b[39m getitem(key)\n",
      "\u001b[1;31mIndexError\u001b[0m: index 15 is out of bounds for axis 0 with size 6"
     ]
    }
   ],
   "source": [
    "#consider sample of 3 random reviews for cluster 4\n",
    "\n",
    "print(df.iloc[df.groupby(['Bow Clus Label']).groups[5][3]]['Text'])\n",
    "print(\"_\" * 70)\n",
    "print(df.iloc[df.groupby(['Bow Clus Label']).groups[5][15]]['Text'])\n",
    "print(\"_\" * 70)\n",
    "print(df.iloc[df.groupby(['Bow Clus Label']).groups[5][25]]['Text'])"
   ]
  },
  {
   "cell_type": "markdown",
   "metadata": {
    "_uuid": "c4bd06d6c2efdeb093f939d04c25467efb518551",
    "id": "fYL9KiHVkNRG"
   },
   "source": [
    "__Analysis of K means for BOW:__\n",
    "\n",
    "__De todos los grupos, 0, 4 y 6 representan más% de las revisiones; comprender las diferencias entre estos 3 grupos es clave. Además, los grupos 2 y 9 tienen solo 1 revisión.\n",
    "\n",
    "If we observe the top terms per cluster, The cluster 4 which consists of LIKE AND LOVE, which are top centroid features and can say this cluster consists of all positive reviews, let us obersve few reviews of each cluster and try to understand the differences\n",
    "\n",
    "Si observamos los términos principales por grupo, el grupo 4 que consta de ME GUSTA Y AMOR, que son características del centroide superior y podemos decir que este grupo consta de todas las revisiones positivas, observemos algunas revisiones de cada grupo y tratemos de comprender las diferencias.\n",
    "\n",
    "Al leer los grupos 2 y 9, que contienen solo una reseña, que es claramente negativa, podemos concluir que a los clientes no les gustó el producto en absoluto y no se usa ninguna palabra de manera extensiva.\n",
    "\n",
    "Al leer reseñas aleatorias del grupo 0, podemos decir fácilmente que estas reseñas son extremadamente positivas sobre el uso del producto y que los clientes están muy contentos con el producto.\n",
    "\n",
    "Al leer reseñas aleatorias del grupo 4, podemos decir que la palabra clave PERO se repite a lo largo de la reseña, lo que indica que algún tipo de gente está de acuerdo con la mayoría de las cosas relacionadas con los productos, pero hay algo que está ligeramente en desacuerdo con la calidad o la entrega del producto. o algo menos de lo que esperaban\n",
    "\n"
   ]
  },
  {
   "cell_type": "markdown",
   "metadata": {
    "_uuid": "5e8f367332b91cdc8ab123ef7d8465f321a47bde",
    "id": "y4Du3O8SkNRH"
   },
   "source": [
    "##  K means using TFIDF"
   ]
  },
  {
   "cell_type": "code",
   "execution_count": 40,
   "metadata": {
    "_uuid": "31cbdb15e5f0d738d7d3cd54940175bd8a5d6321",
    "id": "a5htHBTIkNRH"
   },
   "outputs": [
    {
     "data": {
      "text/plain": [
       "(9515, 11778)"
      ]
     },
     "execution_count": 40,
     "metadata": {},
     "output_type": "execute_result"
    }
   ],
   "source": [
    "#tfidf vector initililization\n",
    "from sklearn.feature_extraction.text import TfidfVectorizer\n",
    "tfidf_vect = TfidfVectorizer()\n",
    "tfidf = tfidf_vect.fit_transform(final['CleanedText'].values)\n",
    "tfidf.shape"
   ]
  },
  {
   "cell_type": "code",
   "execution_count": 42,
   "metadata": {
    "_uuid": "2948e8b41027c8c3b19910157fdc9e04fde1fbb7",
    "id": "KIbAnPv6kNRH"
   },
   "outputs": [
    {
     "name": "stderr",
     "output_type": "stream",
     "text": [
      "C:\\ProgramData\\anaconda3\\lib\\site-packages\\sklearn\\cluster\\_kmeans.py:870: FutureWarning: The default value of `n_init` will change from 10 to 'auto' in 1.4. Set the value of `n_init` explicitly to suppress the warning\n",
      "  warnings.warn(\n"
     ]
    },
    {
     "data": {
      "text/html": [
       "<style>#sk-container-id-2 {color: black;background-color: white;}#sk-container-id-2 pre{padding: 0;}#sk-container-id-2 div.sk-toggleable {background-color: white;}#sk-container-id-2 label.sk-toggleable__label {cursor: pointer;display: block;width: 100%;margin-bottom: 0;padding: 0.3em;box-sizing: border-box;text-align: center;}#sk-container-id-2 label.sk-toggleable__label-arrow:before {content: \"▸\";float: left;margin-right: 0.25em;color: #696969;}#sk-container-id-2 label.sk-toggleable__label-arrow:hover:before {color: black;}#sk-container-id-2 div.sk-estimator:hover label.sk-toggleable__label-arrow:before {color: black;}#sk-container-id-2 div.sk-toggleable__content {max-height: 0;max-width: 0;overflow: hidden;text-align: left;background-color: #f0f8ff;}#sk-container-id-2 div.sk-toggleable__content pre {margin: 0.2em;color: black;border-radius: 0.25em;background-color: #f0f8ff;}#sk-container-id-2 input.sk-toggleable__control:checked~div.sk-toggleable__content {max-height: 200px;max-width: 100%;overflow: auto;}#sk-container-id-2 input.sk-toggleable__control:checked~label.sk-toggleable__label-arrow:before {content: \"▾\";}#sk-container-id-2 div.sk-estimator input.sk-toggleable__control:checked~label.sk-toggleable__label {background-color: #d4ebff;}#sk-container-id-2 div.sk-label input.sk-toggleable__control:checked~label.sk-toggleable__label {background-color: #d4ebff;}#sk-container-id-2 input.sk-hidden--visually {border: 0;clip: rect(1px 1px 1px 1px);clip: rect(1px, 1px, 1px, 1px);height: 1px;margin: -1px;overflow: hidden;padding: 0;position: absolute;width: 1px;}#sk-container-id-2 div.sk-estimator {font-family: monospace;background-color: #f0f8ff;border: 1px dotted black;border-radius: 0.25em;box-sizing: border-box;margin-bottom: 0.5em;}#sk-container-id-2 div.sk-estimator:hover {background-color: #d4ebff;}#sk-container-id-2 div.sk-parallel-item::after {content: \"\";width: 100%;border-bottom: 1px solid gray;flex-grow: 1;}#sk-container-id-2 div.sk-label:hover label.sk-toggleable__label {background-color: #d4ebff;}#sk-container-id-2 div.sk-serial::before {content: \"\";position: absolute;border-left: 1px solid gray;box-sizing: border-box;top: 0;bottom: 0;left: 50%;z-index: 0;}#sk-container-id-2 div.sk-serial {display: flex;flex-direction: column;align-items: center;background-color: white;padding-right: 0.2em;padding-left: 0.2em;position: relative;}#sk-container-id-2 div.sk-item {position: relative;z-index: 1;}#sk-container-id-2 div.sk-parallel {display: flex;align-items: stretch;justify-content: center;background-color: white;position: relative;}#sk-container-id-2 div.sk-item::before, #sk-container-id-2 div.sk-parallel-item::before {content: \"\";position: absolute;border-left: 1px solid gray;box-sizing: border-box;top: 0;bottom: 0;left: 50%;z-index: -1;}#sk-container-id-2 div.sk-parallel-item {display: flex;flex-direction: column;z-index: 1;position: relative;background-color: white;}#sk-container-id-2 div.sk-parallel-item:first-child::after {align-self: flex-end;width: 50%;}#sk-container-id-2 div.sk-parallel-item:last-child::after {align-self: flex-start;width: 50%;}#sk-container-id-2 div.sk-parallel-item:only-child::after {width: 0;}#sk-container-id-2 div.sk-dashed-wrapped {border: 1px dashed gray;margin: 0 0.4em 0.5em 0.4em;box-sizing: border-box;padding-bottom: 0.4em;background-color: white;}#sk-container-id-2 div.sk-label label {font-family: monospace;font-weight: bold;display: inline-block;line-height: 1.2em;}#sk-container-id-2 div.sk-label-container {text-align: center;}#sk-container-id-2 div.sk-container {/* jupyter's `normalize.less` sets `[hidden] { display: none; }` but bootstrap.min.css set `[hidden] { display: none !important; }` so we also need the `!important` here to be able to override the default hidden behavior on the sphinx rendered scikit-learn.org. See: https://github.com/scikit-learn/scikit-learn/issues/21755 */display: inline-block !important;position: relative;}#sk-container-id-2 div.sk-text-repr-fallback {display: none;}</style><div id=\"sk-container-id-2\" class=\"sk-top-container\"><div class=\"sk-text-repr-fallback\"><pre>KMeans(n_clusters=10, random_state=99)</pre><b>In a Jupyter environment, please rerun this cell to show the HTML representation or trust the notebook. <br />On GitHub, the HTML representation is unable to render, please try loading this page with nbviewer.org.</b></div><div class=\"sk-container\" hidden><div class=\"sk-item\"><div class=\"sk-estimator sk-toggleable\"><input class=\"sk-toggleable__control sk-hidden--visually\" id=\"sk-estimator-id-2\" type=\"checkbox\" checked><label for=\"sk-estimator-id-2\" class=\"sk-toggleable__label sk-toggleable__label-arrow\">KMeans</label><div class=\"sk-toggleable__content\"><pre>KMeans(n_clusters=10, random_state=99)</pre></div></div></div></div></div>"
      ],
      "text/plain": [
       "KMeans(n_clusters=10, random_state=99)"
      ]
     },
     "execution_count": 42,
     "metadata": {},
     "output_type": "execute_result"
    }
   ],
   "source": [
    "from sklearn.cluster import KMeans\n",
    "model_tf = KMeans(n_clusters = 10,random_state=99)\n",
    "model_tf.fit(tfidf)"
   ]
  },
  {
   "cell_type": "code",
   "execution_count": 43,
   "metadata": {
    "_uuid": "e56014af60a453b60048c2b8e769cb9a044f29ff",
    "id": "eZjs2G8mkNRI"
   },
   "outputs": [],
   "source": [
    "labels_tf = model_tf.labels_\n",
    "cluster_center_tf=model_tf.cluster_centers_"
   ]
  },
  {
   "cell_type": "code",
   "execution_count": 44,
   "metadata": {
    "_uuid": "a2bc5677684680e64f1d695a64dec41f3aeb1d98",
    "id": "BU5eAMpckNRI"
   },
   "outputs": [
    {
     "data": {
      "text/plain": [
       "array([[0.        , 0.        , 0.        , ..., 0.00651568, 0.        ,\n",
       "        0.        ],\n",
       "       [0.        , 0.        , 0.        , ..., 0.        , 0.        ,\n",
       "        0.        ],\n",
       "       [0.        , 0.        , 0.        , ..., 0.        , 0.        ,\n",
       "        0.00016227],\n",
       "       ...,\n",
       "       [0.        , 0.        , 0.        , ..., 0.        , 0.        ,\n",
       "        0.        ],\n",
       "       [0.00045113, 0.        , 0.        , ..., 0.        , 0.        ,\n",
       "        0.        ],\n",
       "       [0.        , 0.        , 0.        , ..., 0.        , 0.        ,\n",
       "        0.        ]])"
      ]
     },
     "execution_count": 44,
     "metadata": {},
     "output_type": "execute_result"
    }
   ],
   "source": [
    "cluster_center_tf"
   ]
  },
  {
   "cell_type": "code",
   "execution_count": 46,
   "metadata": {
    "_uuid": "99d72a6cf17d9fa064d583b105d0acfae4506240",
    "id": "8eDbVv-2kNRI"
   },
   "outputs": [],
   "source": [
    "# to understand what kind of words generated as columns by BOW\n",
    "terms = count_vect.get_feature_names_out()"
   ]
  },
  {
   "cell_type": "code",
   "execution_count": 48,
   "metadata": {
    "_uuid": "0f3e4313d2123dabe4bd6251ee28a19c28c81c81",
    "id": "HARhP9KukNRI"
   },
   "outputs": [
    {
     "data": {
      "text/plain": [
       "array(['aahhh', 'aback', 'abandon', 'abat', 'abberlin', 'abbi', 'abbott',\n",
       "       'abdomin', 'abid'], dtype=object)"
      ]
     },
     "execution_count": 48,
     "metadata": {},
     "output_type": "execute_result"
    }
   ],
   "source": [
    "terms[1:10]"
   ]
  },
  {
   "cell_type": "code",
   "execution_count": 49,
   "metadata": {
    "_uuid": "28075b9a20dd6962ee41f58013f64ae7c634b6e1",
    "id": "elY26MUXkNRJ"
   },
   "outputs": [],
   "source": [
    "from sklearn import metrics\n",
    "silhouette_score_tf = metrics.silhouette_score(tfidf, labels_tf, metric='euclidean')"
   ]
  },
  {
   "cell_type": "code",
   "execution_count": 50,
   "metadata": {
    "_uuid": "e6b1b0868a98305537da7fd4a7069c3cce65e5b5",
    "id": "gnB4z4eokNRJ"
   },
   "outputs": [
    {
     "data": {
      "text/plain": [
       "0.014636731726648233"
      ]
     },
     "execution_count": 50,
     "metadata": {},
     "output_type": "execute_result"
    }
   ],
   "source": [
    "silhouette_score_tf"
   ]
  },
  {
   "cell_type": "code",
   "execution_count": 51,
   "metadata": {
    "_uuid": "a6ab639394f9cbf894272e56807ec5077c793891",
    "id": "oL4j67P6kNRJ"
   },
   "outputs": [
    {
     "data": {
      "text/html": [
       "<div>\n",
       "<style scoped>\n",
       "    .dataframe tbody tr th:only-of-type {\n",
       "        vertical-align: middle;\n",
       "    }\n",
       "\n",
       "    .dataframe tbody tr th {\n",
       "        vertical-align: top;\n",
       "    }\n",
       "\n",
       "    .dataframe thead th {\n",
       "        text-align: right;\n",
       "    }\n",
       "</style>\n",
       "<table border=\"1\" class=\"dataframe\">\n",
       "  <thead>\n",
       "    <tr style=\"text-align: right;\">\n",
       "      <th></th>\n",
       "      <th>Id</th>\n",
       "      <th>ProductId</th>\n",
       "      <th>UserId</th>\n",
       "      <th>ProfileName</th>\n",
       "      <th>HelpfulnessNumerator</th>\n",
       "      <th>HelpfulnessDenominator</th>\n",
       "      <th>Score</th>\n",
       "      <th>Time</th>\n",
       "      <th>Summary</th>\n",
       "      <th>Text</th>\n",
       "      <th>CleanedText</th>\n",
       "      <th>Bow Clus Label</th>\n",
       "      <th>Tfidf Clus Label</th>\n",
       "    </tr>\n",
       "  </thead>\n",
       "  <tbody>\n",
       "    <tr>\n",
       "      <th>1244</th>\n",
       "      <td>1245</td>\n",
       "      <td>B00002Z754</td>\n",
       "      <td>A29Z5PI9BW2PU3</td>\n",
       "      <td>Robbie</td>\n",
       "      <td>7</td>\n",
       "      <td>7</td>\n",
       "      <td>positive</td>\n",
       "      <td>2000-06-23</td>\n",
       "      <td>Great Product</td>\n",
       "      <td>This was a really good idea and the final prod...</td>\n",
       "      <td>realli good idea final product outstand use de...</td>\n",
       "      <td>1</td>\n",
       "      <td>6</td>\n",
       "    </tr>\n",
       "    <tr>\n",
       "      <th>1243</th>\n",
       "      <td>1244</td>\n",
       "      <td>B00002Z754</td>\n",
       "      <td>A3B8RCEI0FXFI6</td>\n",
       "      <td>B G Chase</td>\n",
       "      <td>10</td>\n",
       "      <td>10</td>\n",
       "      <td>positive</td>\n",
       "      <td>2000-06-29</td>\n",
       "      <td>WOW Make your own 'slickers' !</td>\n",
       "      <td>I just received my shipment and could hardly w...</td>\n",
       "      <td>receiv shipment could hard wait tri product lo...</td>\n",
       "      <td>1</td>\n",
       "      <td>2</td>\n",
       "    </tr>\n",
       "    <tr>\n",
       "      <th>8110</th>\n",
       "      <td>8111</td>\n",
       "      <td>B0000EIE2Z</td>\n",
       "      <td>A3M174IC0VXOS2</td>\n",
       "      <td>Gail Cooke</td>\n",
       "      <td>3</td>\n",
       "      <td>3</td>\n",
       "      <td>positive</td>\n",
       "      <td>2004-01-30</td>\n",
       "      <td>BEST BLUEBERRIES</td>\n",
       "      <td>In the winter when fresh blueberries exceed ou...</td>\n",
       "      <td>winter fresh blueberri exceed food budget dri ...</td>\n",
       "      <td>1</td>\n",
       "      <td>6</td>\n",
       "    </tr>\n",
       "    <tr>\n",
       "      <th>3782</th>\n",
       "      <td>3783</td>\n",
       "      <td>B00016UX0K</td>\n",
       "      <td>AF1PV3DIC0XM7</td>\n",
       "      <td>Robert Ashton</td>\n",
       "      <td>1</td>\n",
       "      <td>2</td>\n",
       "      <td>positive</td>\n",
       "      <td>2004-04-10</td>\n",
       "      <td>Classic Condiment</td>\n",
       "      <td>Mae Ploy Sweet Chili Sauce is becoming a stand...</td>\n",
       "      <td>mae ploy sweet chili sauc becom standard condi...</td>\n",
       "      <td>1</td>\n",
       "      <td>6</td>\n",
       "    </tr>\n",
       "    <tr>\n",
       "      <th>7431</th>\n",
       "      <td>7432</td>\n",
       "      <td>B0001E1IME</td>\n",
       "      <td>A2IKCTD1I73PLW</td>\n",
       "      <td>Adeba</td>\n",
       "      <td>2</td>\n",
       "      <td>8</td>\n",
       "      <td>positive</td>\n",
       "      <td>2004-05-02</td>\n",
       "      <td>amazon monopoly/ripoff</td>\n",
       "      <td>love the snack.  wanted to buy a bunch.&lt;p&gt;ship...</td>\n",
       "      <td>love snack want buy bunch ship amazon price sn...</td>\n",
       "      <td>1</td>\n",
       "      <td>2</td>\n",
       "    </tr>\n",
       "  </tbody>\n",
       "</table>\n",
       "</div>"
      ],
      "text/plain": [
       "        Id   ProductId          UserId    ProfileName  HelpfulnessNumerator  \\\n",
       "1244  1245  B00002Z754  A29Z5PI9BW2PU3         Robbie                     7   \n",
       "1243  1244  B00002Z754  A3B8RCEI0FXFI6      B G Chase                    10   \n",
       "8110  8111  B0000EIE2Z  A3M174IC0VXOS2     Gail Cooke                     3   \n",
       "3782  3783  B00016UX0K   AF1PV3DIC0XM7  Robert Ashton                     1   \n",
       "7431  7432  B0001E1IME  A2IKCTD1I73PLW          Adeba                     2   \n",
       "\n",
       "      HelpfulnessDenominator     Score       Time  \\\n",
       "1244                       7  positive 2000-06-23   \n",
       "1243                      10  positive 2000-06-29   \n",
       "8110                       3  positive 2004-01-30   \n",
       "3782                       2  positive 2004-04-10   \n",
       "7431                       8  positive 2004-05-02   \n",
       "\n",
       "                             Summary  \\\n",
       "1244                   Great Product   \n",
       "1243  WOW Make your own 'slickers' !   \n",
       "8110                BEST BLUEBERRIES   \n",
       "3782               Classic Condiment   \n",
       "7431          amazon monopoly/ripoff   \n",
       "\n",
       "                                                   Text  \\\n",
       "1244  This was a really good idea and the final prod...   \n",
       "1243  I just received my shipment and could hardly w...   \n",
       "8110  In the winter when fresh blueberries exceed ou...   \n",
       "3782  Mae Ploy Sweet Chili Sauce is becoming a stand...   \n",
       "7431  love the snack.  wanted to buy a bunch.<p>ship...   \n",
       "\n",
       "                                            CleanedText  Bow Clus Label  \\\n",
       "1244  realli good idea final product outstand use de...               1   \n",
       "1243  receiv shipment could hard wait tri product lo...               1   \n",
       "8110  winter fresh blueberri exceed food budget dri ...               1   \n",
       "3782  mae ploy sweet chili sauc becom standard condi...               1   \n",
       "7431  love snack want buy bunch ship amazon price sn...               1   \n",
       "\n",
       "      Tfidf Clus Label  \n",
       "1244                 6  \n",
       "1243                 2  \n",
       "8110                 6  \n",
       "3782                 6  \n",
       "7431                 2  "
      ]
     },
     "execution_count": 51,
     "metadata": {},
     "output_type": "execute_result"
    }
   ],
   "source": [
    "# Giving Labels/assigning a cluster to each point/text\n",
    "df1 = df\n",
    "df1['Tfidf Clus Label'] = model_tf.labels_\n",
    "df1.head(5)"
   ]
  },
  {
   "cell_type": "code",
   "execution_count": 52,
   "metadata": {
    "_uuid": "a838d51aa844b442dddb520d43e1e619ab5540bc",
    "id": "8WsLxR9MkNRJ"
   },
   "outputs": [
    {
     "data": {
      "text/plain": [
       "Tfidf Clus Label\n",
       "0     407\n",
       "1     339\n",
       "2    1549\n",
       "3     478\n",
       "4     324\n",
       "5     234\n",
       "6    4256\n",
       "7    1001\n",
       "8     423\n",
       "9     504\n",
       "Name: Text, dtype: int64"
      ]
     },
     "execution_count": 52,
     "metadata": {},
     "output_type": "execute_result"
    }
   ],
   "source": [
    "# How many points belong to each cluster ->\n",
    "\n",
    "df1.groupby(['Tfidf Clus Label'])['Text'].count()"
   ]
  },
  {
   "cell_type": "code",
   "execution_count": 54,
   "metadata": {
    "_uuid": "af81aac2ef31726af2b6d34e11a3a6ab5d621322",
    "id": "m9P046vckNRK"
   },
   "outputs": [
    {
     "name": "stdout",
     "output_type": "stream",
     "text": [
      "Top terms per cluster:\n",
      "Cluster 0: dog\n",
      " food\n",
      " treat\n",
      " love\n",
      " newman\n",
      " eat\n",
      " like\n",
      " ingredi\n",
      " one\n",
      " organ\n",
      "Cluster 1: pancak\n",
      " mix\n",
      " gluten\n",
      " waffl\n",
      " bisquick\n",
      " free\n",
      " make\n",
      " use\n",
      " product\n",
      " biscuit\n",
      "Cluster 2: product\n",
      " order\n",
      " amazon\n",
      " price\n",
      " store\n",
      " great\n",
      " ship\n",
      " buy\n",
      " find\n",
      " love\n",
      "Cluster 3: tea\n",
      " green\n",
      " ice\n",
      " drink\n",
      " tast\n",
      " like\n",
      " flavor\n",
      " love\n",
      " bag\n",
      " great\n",
      "Cluster 4: juic\n",
      " orang\n",
      " soda\n",
      " drink\n",
      " carbon\n",
      " tangerin\n",
      " switch\n",
      " tast\n",
      " sugar\n",
      " flavor\n",
      "Cluster 5: cat\n",
      " food\n",
      " eat\n",
      " love\n",
      " treat\n",
      " grass\n",
      " one\n",
      " like\n",
      " vomit\n",
      " grow\n",
      "Cluster 6: tast\n",
      " like\n",
      " good\n",
      " flavor\n",
      " love\n",
      " great\n",
      " use\n",
      " one\n",
      " tri\n",
      " eat\n",
      "Cluster 7: coffe\n",
      " cup\n",
      " flavor\n",
      " tast\n",
      " like\n",
      " roast\n",
      " good\n",
      " one\n",
      " use\n",
      " bitter\n",
      "Cluster 8: chocol\n",
      " hot\n",
      " cocoa\n",
      " tast\n",
      " cup\n",
      " dark\n",
      " tri\n",
      " milk\n",
      " flavor\n",
      " good\n",
      "Cluster 9: chip\n",
      " bag\n",
      " flavor\n",
      " potato\n",
      " salt\n",
      " kettl\n",
      " great\n",
      " like\n",
      " vinegar\n",
      " love\n"
     ]
    }
   ],
   "source": [
    "#Refrence credit - to find the top 10 features of cluster centriod\n",
    "#https://stackoverflow.com/questions/47452119/kmean-clustering-top-terms-in-cluster\n",
    "print(\"Top terms per cluster:\")\n",
    "order_centroids = model_tf.cluster_centers_.argsort()[:, ::-1]\n",
    "for i in range(10):\n",
    "    print(\"Cluster %d:\" % i, end='')\n",
    "    for ind in order_centroids[i, :10]:\n",
    "        print(' %s' % terms[ind], end='')\n",
    "        print()"
   ]
  },
  {
   "cell_type": "code",
   "execution_count": 55,
   "metadata": {
    "_uuid": "3c4d242e90ccf1ad6e23eba1e7d075b0e98d26b9",
    "id": "5PWmy8N7kNRK"
   },
   "outputs": [
    {
     "data": {
      "image/png": "[encoded data removed]",
      "text/plain": [
       "<Figure size 640x480 with 1 Axes>"
      ]
     },
     "metadata": {},
     "output_type": "display_data"
    }
   ],
   "source": [
    "# visually how points or reviews are distributed across 10 clusters\n",
    "\n",
    "plt.bar([x for x in range(10)], df1.groupby(['Tfidf Clus Label'])['Text'].count(), alpha = 0.4)\n",
    "plt.title('KMeans cluster points')\n",
    "plt.xlabel(\"Cluster number\")\n",
    "plt.ylabel(\"Number of points\")\n",
    "plt.show()"
   ]
  },
  {
   "cell_type": "code",
   "execution_count": 56,
   "metadata": {
    "_uuid": "fb81168ba9721aaea5a17248ce911e6b6215531a",
    "id": "CzjhlFprkNRL"
   },
   "outputs": [
    {
     "name": "stdout",
     "output_type": "stream",
     "text": [
      "4 review of assigned to cluster  0\n",
      "----------------------------------------------------------------------\n",
      "I really love this tea and have found that my daughter and daughter-in-law feel the same!  I've used the loose leaf tea for years but find the convenience of the bags encouraging.\n",
      "\n",
      "\n",
      "I thought I was purchasing a high quality item but it's not all that. The chocolate is very sweet and as you chew on this product you can tell the chocolate is loaded with sugar by the crunchy texture. I'm going to say it's not worth the money and I'm not satisfied.<br />At the same time of purchasing this product I also bought Sunmaid chocolate covered raisons which I rate from a 1-10...a 10. Now we are talking about yumminess!!!!!<br />So customers...if you are going to choose...let it be the Sunmaid...you won't be dissappointed\n",
      "\n",
      "\n",
      "I have tried literally dozens of teas since being introduced to the Russian custom of preparing and drinking tea, and the Ahmad Imperial blend is probably my favorite of all of these due to the fact that it is equally delicious hot or iced.  I buy the three-packs as needed from Amazon and go through them rapidly. My family loves it and my friends have it in their homes now too, try one box of it and you will love it too.\n",
      "\n",
      "\n",
      "______________________________________________________________________\n",
      "4 review of assigned to cluster  1\n",
      "----------------------------------------------------------------------\n",
      "I am pleased the bag is so large; it means I'll be sipping this tea for a while.  This tea is perfect for the start of the work day:  the rose and hibiscus liven my senses; the caffeine pushes me to type a bit faster as I climb over a hillock of e-mails.  The flavors are a bit more pungent than similar blends I've mixed on my own (is the cause the mysterious \"natural flavor\" another reviewer pointed out?), but it is still quite pleasant.  I certainly look forward to many more mornings begun over several cups of rose congou.\n",
      "\n",
      "\n",
      "We were looking for a tasty, spicey gravey mix.  When searching the internet we saw this item and<br />decided to try it.  What a lucky find.  It is all we anticipated and more, being easy to prepare as well<br />as tasty and spicey.  Now we need look no further.  When we run out we know where to go to order<br />it.\n",
      "\n",
      "\n",
      "My twin 10-month old babies treat this one as dessert.  Their first Earth's Best jar they loved was straight sweet potatoes.  After water, sweet potatoes are the first ingredient in this one, followed by apricot puree.  That's dessert for them right there.  After that comes the chicken and then brown rice flour (not as good as brown rice though).<br /><br />This is a meal that babies around the age of mine are probably almost all going to love instantly.  Almost all babies love sweet potatoes for starters.  Add apricot puree and there's really not much one could do to discourage babies after that.  I recommend this flavor brand.<br /><br />Ingredients per label: Water, organic sweet potatoes, organic apricot puree, mechanically separated organic chicken, organic brown rice flour.<br /><br />The rice flour absorbed the water and gave it a real nice consistency, and the sweet potatoes gave it a nice color.<br /><br />Nutrition per label: 80 calories, 15% protein, 90% vitamin A, 2% vitamin C, 2% calcium and 6% iron.<br /><br />This one had the most vitamin A of all Earth's Best jars I've tried.  I've been informed that the percentage of daily needs met is based on an adult.\n",
      "\n",
      "\n",
      "______________________________________________________________________\n",
      "4 review of assigned to cluster  2\n",
      "----------------------------------------------------------------------\n",
      "I do not like sour taste and this has a sour kind of taste which i don't like. The smell isn't that great either\n",
      "\n",
      "\n",
      "This was a great Mother's Day gift. The packaging is unique, very artful, and well designed. Inside are different pouches for each of the Wine-a-Rita flavors. The box is substantial - it feels great wrapped up in wrapping paper. Also the Wine-a-Rita people had the foresight to put two different types of recipes on the box: one for wine and one for hard alcohol. Brilliant move in my opinion. My mom is not the biggest liquor drinker, so now she can make iced drinks with wine as the base rather than hard alcohol. Though other reviews state that they only received the drink pouches in a plastic bag, this was not the case for my purchase. I will update this review if we tinker with the recipes.\n",
      "\n",
      "\n",
      "The Natural Balance Alpha Grain-free Trout, Salmon meal and Whitefish Formula is working very good for my dog. There is no digestive problems. It also keeps the fur shinny. Be sure to provide a lot of water for the dog as he always drinks a lot an hour or two after the meals.\n",
      "\n",
      "\n",
      "______________________________________________________________________\n",
      "4 review of assigned to cluster  3\n",
      "----------------------------------------------------------------------\n",
      "This kind of tea not good ....!Taste and smell so wear it's not like tea ,and feel like some thing chemical.\n",
      "\n",
      "\n"
     ]
    },
    {
     "ename": "IndexError",
     "evalue": "single positional indexer is out-of-bounds",
     "output_type": "error",
     "traceback": [
      "\u001b[1;31m---------------------------------------------------------------------------\u001b[0m",
      "\u001b[1;31mIndexError\u001b[0m                                Traceback (most recent call last)",
      "Cell \u001b[1;32mIn[56], line 7\u001b[0m\n\u001b[0;32m      5\u001b[0m \u001b[38;5;28mprint\u001b[39m(df1\u001b[38;5;241m.\u001b[39miloc[df1\u001b[38;5;241m.\u001b[39mgroupby([\u001b[38;5;124m'\u001b[39m\u001b[38;5;124mTfidf Clus Label\u001b[39m\u001b[38;5;124m'\u001b[39m])\u001b[38;5;241m.\u001b[39mgroups[i][\u001b[38;5;241m5\u001b[39m]][\u001b[38;5;124m'\u001b[39m\u001b[38;5;124mText\u001b[39m\u001b[38;5;124m'\u001b[39m])\n\u001b[0;32m      6\u001b[0m \u001b[38;5;28mprint\u001b[39m(\u001b[38;5;124m'\u001b[39m\u001b[38;5;130;01m\\n\u001b[39;00m\u001b[38;5;124m'\u001b[39m)\n\u001b[1;32m----> 7\u001b[0m \u001b[38;5;28mprint\u001b[39m(\u001b[43mdf1\u001b[49m\u001b[38;5;241;43m.\u001b[39;49m\u001b[43miloc\u001b[49m\u001b[43m[\u001b[49m\u001b[43mdf1\u001b[49m\u001b[38;5;241;43m.\u001b[39;49m\u001b[43mgroupby\u001b[49m\u001b[43m(\u001b[49m\u001b[43m[\u001b[49m\u001b[38;5;124;43m'\u001b[39;49m\u001b[38;5;124;43mTfidf Clus Label\u001b[39;49m\u001b[38;5;124;43m'\u001b[39;49m\u001b[43m]\u001b[49m\u001b[43m)\u001b[49m\u001b[38;5;241;43m.\u001b[39;49m\u001b[43mgroups\u001b[49m\u001b[43m[\u001b[49m\u001b[43mi\u001b[49m\u001b[43m]\u001b[49m\u001b[43m[\u001b[49m\u001b[38;5;241;43m10\u001b[39;49m\u001b[43m]\u001b[49m\u001b[43m]\u001b[49m[\u001b[38;5;124m'\u001b[39m\u001b[38;5;124mText\u001b[39m\u001b[38;5;124m'\u001b[39m])\n\u001b[0;32m      8\u001b[0m \u001b[38;5;28mprint\u001b[39m(\u001b[38;5;124m'\u001b[39m\u001b[38;5;130;01m\\n\u001b[39;00m\u001b[38;5;124m'\u001b[39m)\n\u001b[0;32m      9\u001b[0m \u001b[38;5;28mprint\u001b[39m(df1\u001b[38;5;241m.\u001b[39miloc[df1\u001b[38;5;241m.\u001b[39mgroupby([\u001b[38;5;124m'\u001b[39m\u001b[38;5;124mTfidf Clus Label\u001b[39m\u001b[38;5;124m'\u001b[39m])\u001b[38;5;241m.\u001b[39mgroups[i][\u001b[38;5;241m20\u001b[39m]][\u001b[38;5;124m'\u001b[39m\u001b[38;5;124mText\u001b[39m\u001b[38;5;124m'\u001b[39m])\n",
      "File \u001b[1;32mC:\\ProgramData\\anaconda3\\lib\\site-packages\\pandas\\core\\indexing.py:1073\u001b[0m, in \u001b[0;36m_LocationIndexer.__getitem__\u001b[1;34m(self, key)\u001b[0m\n\u001b[0;32m   1070\u001b[0m axis \u001b[38;5;241m=\u001b[39m \u001b[38;5;28mself\u001b[39m\u001b[38;5;241m.\u001b[39maxis \u001b[38;5;129;01mor\u001b[39;00m \u001b[38;5;241m0\u001b[39m\n\u001b[0;32m   1072\u001b[0m maybe_callable \u001b[38;5;241m=\u001b[39m com\u001b[38;5;241m.\u001b[39mapply_if_callable(key, \u001b[38;5;28mself\u001b[39m\u001b[38;5;241m.\u001b[39mobj)\n\u001b[1;32m-> 1073\u001b[0m \u001b[38;5;28;01mreturn\u001b[39;00m \u001b[38;5;28;43mself\u001b[39;49m\u001b[38;5;241;43m.\u001b[39;49m\u001b[43m_getitem_axis\u001b[49m\u001b[43m(\u001b[49m\u001b[43mmaybe_callable\u001b[49m\u001b[43m,\u001b[49m\u001b[43m \u001b[49m\u001b[43maxis\u001b[49m\u001b[38;5;241;43m=\u001b[39;49m\u001b[43maxis\u001b[49m\u001b[43m)\u001b[49m\n",
      "File \u001b[1;32mC:\\ProgramData\\anaconda3\\lib\\site-packages\\pandas\\core\\indexing.py:1625\u001b[0m, in \u001b[0;36m_iLocIndexer._getitem_axis\u001b[1;34m(self, key, axis)\u001b[0m\n\u001b[0;32m   1622\u001b[0m     \u001b[38;5;28;01mraise\u001b[39;00m \u001b[38;5;167;01mTypeError\u001b[39;00m(\u001b[38;5;124m\"\u001b[39m\u001b[38;5;124mCannot index by location index with a non-integer key\u001b[39m\u001b[38;5;124m\"\u001b[39m)\n\u001b[0;32m   1624\u001b[0m \u001b[38;5;66;03m# validate the location\u001b[39;00m\n\u001b[1;32m-> 1625\u001b[0m \u001b[38;5;28;43mself\u001b[39;49m\u001b[38;5;241;43m.\u001b[39;49m\u001b[43m_validate_integer\u001b[49m\u001b[43m(\u001b[49m\u001b[43mkey\u001b[49m\u001b[43m,\u001b[49m\u001b[43m \u001b[49m\u001b[43maxis\u001b[49m\u001b[43m)\u001b[49m\n\u001b[0;32m   1627\u001b[0m \u001b[38;5;28;01mreturn\u001b[39;00m \u001b[38;5;28mself\u001b[39m\u001b[38;5;241m.\u001b[39mobj\u001b[38;5;241m.\u001b[39m_ixs(key, axis\u001b[38;5;241m=\u001b[39maxis)\n",
      "File \u001b[1;32mC:\\ProgramData\\anaconda3\\lib\\site-packages\\pandas\\core\\indexing.py:1557\u001b[0m, in \u001b[0;36m_iLocIndexer._validate_integer\u001b[1;34m(self, key, axis)\u001b[0m\n\u001b[0;32m   1555\u001b[0m len_axis \u001b[38;5;241m=\u001b[39m \u001b[38;5;28mlen\u001b[39m(\u001b[38;5;28mself\u001b[39m\u001b[38;5;241m.\u001b[39mobj\u001b[38;5;241m.\u001b[39m_get_axis(axis))\n\u001b[0;32m   1556\u001b[0m \u001b[38;5;28;01mif\u001b[39;00m key \u001b[38;5;241m>\u001b[39m\u001b[38;5;241m=\u001b[39m len_axis \u001b[38;5;129;01mor\u001b[39;00m key \u001b[38;5;241m<\u001b[39m \u001b[38;5;241m-\u001b[39mlen_axis:\n\u001b[1;32m-> 1557\u001b[0m     \u001b[38;5;28;01mraise\u001b[39;00m \u001b[38;5;167;01mIndexError\u001b[39;00m(\u001b[38;5;124m\"\u001b[39m\u001b[38;5;124msingle positional indexer is out-of-bounds\u001b[39m\u001b[38;5;124m\"\u001b[39m)\n",
      "\u001b[1;31mIndexError\u001b[0m: single positional indexer is out-of-bounds"
     ]
    }
   ],
   "source": [
    "# Reading a review which belong to each group.\n",
    "for i in range(10):\n",
    "    print(\"4 review of assigned to cluster \", i)\n",
    "    print(\"-\" * 70)\n",
    "    print(df1.iloc[df1.groupby(['Tfidf Clus Label']).groups[i][5]]['Text'])\n",
    "    print('\\n')\n",
    "    print(df1.iloc[df1.groupby(['Tfidf Clus Label']).groups[i][10]]['Text'])\n",
    "    print('\\n')\n",
    "    print(df1.iloc[df1.groupby(['Tfidf Clus Label']).groups[i][20]]['Text'])\n",
    "    print('\\n')\n",
    "    print(\"_\" * 70)"
   ]
  },
  {
   "cell_type": "markdown",
   "metadata": {
    "_uuid": "7bec9fdbf7f69be72a4793893cbcd2751682a270",
    "id": "5lRY0q2OkNRL"
   },
   "source": [
    "__Analysis of K means for TF_IDF:__\n",
    "\n",
    "____De todo el grupo, 4 representan más % de reseñas, es decir, más de 4000.\n",
    "\n",
    "Si observamos los términos principales por grupo, los grupos basados ​​en los productos y en cuanto a los gustos y disgustos del producto. por ejemplo, si observamos el grupo 8, las reseñas hablan más de chips, patatas y otros productos que son como snacks.\n",
    "\n",
    "En estos, es mejor comprender las características principales del centro del grupo que las revisiones individuales."
   ]
  },
  {
   "cell_type": "markdown",
   "metadata": {
    "_uuid": "3c0a9d4f0869e28e38fb573c37e412c7424af8c2",
    "id": "Wa2TdBhYkNRL"
   },
   "source": [
    "# Average Word to Vector"
   ]
  },
  {
   "cell_type": "code",
   "execution_count": 2,
   "metadata": {},
   "outputs": [
    {
     "name": "stdout",
     "output_type": "stream",
     "text": [
      "Versión de NumPy: 1.23.5\n"
     ]
    }
   ],
   "source": [
    "import numpy as np\n",
    "\n",
    "print(\"Versión de NumPy:\", np.__version__)"
   ]
  },
  {
   "cell_type": "code",
   "execution_count": 57,
   "metadata": {
    "_uuid": "0327906c371acaa309a7155c50e619bbeca1fe3b",
    "id": "vhAbKdVHkNRL"
   },
   "outputs": [],
   "source": [
    "# Train your own Word2Vec model using your own text corpus\n",
    "i=0\n",
    "list_of_sent=[]\n",
    "for sent in final['CleanedText'].values:\n",
    "    list_of_sent.append(sent.split())"
   ]
  },
  {
   "cell_type": "code",
   "execution_count": 58,
   "metadata": {
    "_uuid": "bbf2f9b6919ee748d926da5b74e0396abf5284c0",
    "id": "6r0V_OR6kNRM"
   },
   "outputs": [
    {
     "name": "stdout",
     "output_type": "stream",
     "text": [
      "realli good idea final product outstand use decal car window everybodi ask bought decal made two thumb\n",
      "*****************************************************************\n",
      "['realli', 'good', 'idea', 'final', 'product', 'outstand', 'use', 'decal', 'car', 'window', 'everybodi', 'ask', 'bought', 'decal', 'made', 'two', 'thumb']\n"
     ]
    }
   ],
   "source": [
    "print(final['CleanedText'].values[0])\n",
    "print(\"*****************************************************************\")\n",
    "print(list_of_sent[0])"
   ]
  },
  {
   "cell_type": "code",
   "execution_count": 59,
   "metadata": {
    "_uuid": "a9640c552a627717a576b42181c514218e8d0c46",
    "id": "SdvHVNhhkNRN"
   },
   "outputs": [],
   "source": [
    "\n",
    "# removing html tags and apostrophes if present.\n",
    "import re\n",
    "def cleanhtml(sentence): #function to clean the word of any html-tags\n",
    "    cleanr = re.compile('<.*?>')\n",
    "    cleantext = re.sub(cleanr, ' ', sentence)\n",
    "    return cleantext\n",
    "def cleanpunc(sentence): #function to clean the word of any punctuation or special characters\n",
    "    cleaned = re.sub(r'[?|!|\\'|\"|#]',r'',sentence)\n",
    "    cleaned = re.sub(r'[.|,|)|(|\\|/]',r' ',cleaned)\n",
    "    return  cleaned"
   ]
  },
  {
   "cell_type": "code",
   "execution_count": 60,
   "metadata": {
    "_uuid": "83df91521ad074e5625208c0b38a08fb8a6bc4bc",
    "id": "-WiyL40ykNRN"
   },
   "outputs": [],
   "source": [
    "i=0\n",
    "list_of_sent_train=[]\n",
    "for sent in final['CleanedText'].values:\n",
    "    filtered_sentence=[]\n",
    "    sent=cleanhtml(sent)\n",
    "    for w in sent.split():\n",
    "        for cleaned_words in cleanpunc(w).split():\n",
    "            if(cleaned_words.isalpha()):\n",
    "                filtered_sentence.append(cleaned_words.lower())\n",
    "            else:\n",
    "                continue\n",
    "    list_of_sent_train.append(filtered_sentence)"
   ]
  },
  {
   "cell_type": "code",
   "execution_count": 62,
   "metadata": {
    "_uuid": "a6d900f47371e98ac8119b6e5997ad797a5b1b0a",
    "id": "JYLk9sqJkNRO"
   },
   "outputs": [
    {
     "name": "stderr",
     "output_type": "stream",
     "text": [
      "C:\\Users\\Lis\\AppData\\Local\\Temp\\ipykernel_7100\\3118248424.py:13: RuntimeWarning: invalid value encountered in divide\n",
      "  sent_vec /= cnt_words\n"
     ]
    },
    {
     "data": {
      "text/plain": [
       "(9515, 100)"
      ]
     },
     "execution_count": 62,
     "metadata": {},
     "output_type": "execute_result"
    }
   ],
   "source": [
    "import numpy as np\n",
    "sent_vectors = []; # the avg-w2v for each sentence/review is stored in this train\n",
    "for sent in list_of_sent_train: # for each review/sentence\n",
    "    sent_vec = np.zeros(100) # as word vectors are of zero length\n",
    "    cnt_words =0; # num of words with a valid vector in the sentence/review\n",
    "    for word in sent: # for each word in a review/sentence\n",
    "        try:\n",
    "            vec = w2v_model.wv[word]\n",
    "            sent_vec += vec\n",
    "            cnt_words += 1\n",
    "        except:\n",
    "            pass\n",
    "    sent_vec /= cnt_words\n",
    "    sent_vectors.append(sent_vec)\n",
    "sent_vectors = np.array(sent_vectors)\n",
    "sent_vectors = np.nan_to_num(sent_vectors)\n",
    "sent_vectors.shape\n"
   ]
  },
  {
   "cell_type": "markdown",
   "metadata": {
    "_uuid": "39c8eaa87525123bc60bb86a230336b972da62f6",
    "id": "_s62fVpdkNRP"
   },
   "source": [
    "## K Means CLustering for Avg word to vectors"
   ]
  },
  {
   "cell_type": "code",
   "execution_count": 63,
   "metadata": {
    "_uuid": "2520cdb265bffc6779ab95b2e2ea3b0a5b24bb21",
    "id": "vOK8S7uqkNRP"
   },
   "outputs": [
    {
     "data": {
      "text/plain": [
       "[3, 4, 5, 6, 7, 8, 9, 10]"
      ]
     },
     "execution_count": 63,
     "metadata": {},
     "output_type": "execute_result"
    }
   ],
   "source": [
    "# Number of clusters to check.\n",
    "num_clus = [x for x in range(3,11)]\n",
    "num_clus"
   ]
  },
  {
   "cell_type": "code",
   "execution_count": 65,
   "metadata": {
    "_uuid": "41d8020c2206a40393b6fa194d0acbf23f009b31",
    "id": "8Z0YkN98kNRQ"
   },
   "outputs": [
    {
     "name": "stderr",
     "output_type": "stream",
     "text": [
      "C:\\ProgramData\\anaconda3\\lib\\site-packages\\sklearn\\cluster\\_kmeans.py:870: FutureWarning: The default value of `n_init` will change from 10 to 'auto' in 1.4. Set the value of `n_init` explicitly to suppress the warning\n",
      "  warnings.warn(\n",
      "C:\\Users\\Lis\\AppData\\Local\\Temp\\ipykernel_7100\\2757166966.py:4: ConvergenceWarning: Number of distinct clusters (1) found smaller than n_clusters (2). Possibly due to duplicate points in X.\n",
      "  model2.fit(sent_vectors)\n"
     ]
    },
    {
     "data": {
      "text/html": [
       "<style>#sk-container-id-3 {color: black;background-color: white;}#sk-container-id-3 pre{padding: 0;}#sk-container-id-3 div.sk-toggleable {background-color: white;}#sk-container-id-3 label.sk-toggleable__label {cursor: pointer;display: block;width: 100%;margin-bottom: 0;padding: 0.3em;box-sizing: border-box;text-align: center;}#sk-container-id-3 label.sk-toggleable__label-arrow:before {content: \"▸\";float: left;margin-right: 0.25em;color: #696969;}#sk-container-id-3 label.sk-toggleable__label-arrow:hover:before {color: black;}#sk-container-id-3 div.sk-estimator:hover label.sk-toggleable__label-arrow:before {color: black;}#sk-container-id-3 div.sk-toggleable__content {max-height: 0;max-width: 0;overflow: hidden;text-align: left;background-color: #f0f8ff;}#sk-container-id-3 div.sk-toggleable__content pre {margin: 0.2em;color: black;border-radius: 0.25em;background-color: #f0f8ff;}#sk-container-id-3 input.sk-toggleable__control:checked~div.sk-toggleable__content {max-height: 200px;max-width: 100%;overflow: auto;}#sk-container-id-3 input.sk-toggleable__control:checked~label.sk-toggleable__label-arrow:before {content: \"▾\";}#sk-container-id-3 div.sk-estimator input.sk-toggleable__control:checked~label.sk-toggleable__label {background-color: #d4ebff;}#sk-container-id-3 div.sk-label input.sk-toggleable__control:checked~label.sk-toggleable__label {background-color: #d4ebff;}#sk-container-id-3 input.sk-hidden--visually {border: 0;clip: rect(1px 1px 1px 1px);clip: rect(1px, 1px, 1px, 1px);height: 1px;margin: -1px;overflow: hidden;padding: 0;position: absolute;width: 1px;}#sk-container-id-3 div.sk-estimator {font-family: monospace;background-color: #f0f8ff;border: 1px dotted black;border-radius: 0.25em;box-sizing: border-box;margin-bottom: 0.5em;}#sk-container-id-3 div.sk-estimator:hover {background-color: #d4ebff;}#sk-container-id-3 div.sk-parallel-item::after {content: \"\";width: 100%;border-bottom: 1px solid gray;flex-grow: 1;}#sk-container-id-3 div.sk-label:hover label.sk-toggleable__label {background-color: #d4ebff;}#sk-container-id-3 div.sk-serial::before {content: \"\";position: absolute;border-left: 1px solid gray;box-sizing: border-box;top: 0;bottom: 0;left: 50%;z-index: 0;}#sk-container-id-3 div.sk-serial {display: flex;flex-direction: column;align-items: center;background-color: white;padding-right: 0.2em;padding-left: 0.2em;position: relative;}#sk-container-id-3 div.sk-item {position: relative;z-index: 1;}#sk-container-id-3 div.sk-parallel {display: flex;align-items: stretch;justify-content: center;background-color: white;position: relative;}#sk-container-id-3 div.sk-item::before, #sk-container-id-3 div.sk-parallel-item::before {content: \"\";position: absolute;border-left: 1px solid gray;box-sizing: border-box;top: 0;bottom: 0;left: 50%;z-index: -1;}#sk-container-id-3 div.sk-parallel-item {display: flex;flex-direction: column;z-index: 1;position: relative;background-color: white;}#sk-container-id-3 div.sk-parallel-item:first-child::after {align-self: flex-end;width: 50%;}#sk-container-id-3 div.sk-parallel-item:last-child::after {align-self: flex-start;width: 50%;}#sk-container-id-3 div.sk-parallel-item:only-child::after {width: 0;}#sk-container-id-3 div.sk-dashed-wrapped {border: 1px dashed gray;margin: 0 0.4em 0.5em 0.4em;box-sizing: border-box;padding-bottom: 0.4em;background-color: white;}#sk-container-id-3 div.sk-label label {font-family: monospace;font-weight: bold;display: inline-block;line-height: 1.2em;}#sk-container-id-3 div.sk-label-container {text-align: center;}#sk-container-id-3 div.sk-container {/* jupyter's `normalize.less` sets `[hidden] { display: none; }` but bootstrap.min.css set `[hidden] { display: none !important; }` so we also need the `!important` here to be able to override the default hidden behavior on the sphinx rendered scikit-learn.org. See: https://github.com/scikit-learn/scikit-learn/issues/21755 */display: inline-block !important;position: relative;}#sk-container-id-3 div.sk-text-repr-fallback {display: none;}</style><div id=\"sk-container-id-3\" class=\"sk-top-container\"><div class=\"sk-text-repr-fallback\"><pre>KMeans(n_clusters=2)</pre><b>In a Jupyter environment, please rerun this cell to show the HTML representation or trust the notebook. <br />On GitHub, the HTML representation is unable to render, please try loading this page with nbviewer.org.</b></div><div class=\"sk-container\" hidden><div class=\"sk-item\"><div class=\"sk-estimator sk-toggleable\"><input class=\"sk-toggleable__control sk-hidden--visually\" id=\"sk-estimator-id-3\" type=\"checkbox\" checked><label for=\"sk-estimator-id-3\" class=\"sk-toggleable__label sk-toggleable__label-arrow\">KMeans</label><div class=\"sk-toggleable__content\"><pre>KMeans(n_clusters=2)</pre></div></div></div></div></div>"
      ],
      "text/plain": [
       "KMeans(n_clusters=2)"
      ]
     },
     "execution_count": 65,
     "metadata": {},
     "output_type": "execute_result"
    }
   ],
   "source": [
    "# Training the best model --\n",
    "from sklearn.cluster import KMeans\n",
    "model2 = KMeans(n_clusters = optimal_clusters)\n",
    "model2.fit(sent_vectors)"
   ]
  },
  {
   "cell_type": "code",
   "execution_count": 66,
   "metadata": {
    "_uuid": "5a6d284261aa7ee745164b6b0d6e536abf9a681e",
    "id": "gLWPVZLgkNRQ"
   },
   "outputs": [],
   "source": [
    "word_cluster_pred=model2.predict(sent_vectors)\n",
    "word_cluster_pred_2=model2.labels_\n",
    "word_cluster_center=model2.cluster_centers_"
   ]
  },
  {
   "cell_type": "code",
   "execution_count": 67,
   "metadata": {
    "_uuid": "c49c69ba0942b49766dc6a466bf0e3e39b7f0660",
    "id": "7HxLqs1xkNRR"
   },
   "outputs": [
    {
     "data": {
      "text/plain": [
       "array([[0., 0., 0., 0., 0., 0., 0., 0., 0., 0., 0., 0., 0., 0., 0., 0.,\n",
       "        0., 0., 0., 0., 0., 0., 0., 0., 0., 0., 0., 0., 0., 0., 0., 0.,\n",
       "        0., 0., 0., 0., 0., 0., 0., 0., 0., 0., 0., 0., 0., 0., 0., 0.,\n",
       "        0., 0., 0., 0., 0., 0., 0., 0., 0., 0., 0., 0., 0., 0., 0., 0.,\n",
       "        0., 0., 0., 0., 0., 0., 0., 0., 0., 0., 0., 0., 0., 0., 0., 0.,\n",
       "        0., 0., 0., 0., 0., 0., 0., 0., 0., 0., 0., 0., 0., 0., 0., 0.,\n",
       "        0., 0., 0., 0.]])"
      ]
     },
     "execution_count": 67,
     "metadata": {},
     "output_type": "execute_result"
    }
   ],
   "source": [
    "word_cluster_center[1:2]"
   ]
  },
  {
   "cell_type": "code",
   "execution_count": 68,
   "metadata": {
    "_uuid": "55c09d99fa7ebf76fc372551880d07e71e6d2523",
    "id": "xDTQrR6IkNRR"
   },
   "outputs": [
    {
     "data": {
      "text/html": [
       "<div>\n",
       "<style scoped>\n",
       "    .dataframe tbody tr th:only-of-type {\n",
       "        vertical-align: middle;\n",
       "    }\n",
       "\n",
       "    .dataframe tbody tr th {\n",
       "        vertical-align: top;\n",
       "    }\n",
       "\n",
       "    .dataframe thead th {\n",
       "        text-align: right;\n",
       "    }\n",
       "</style>\n",
       "<table border=\"1\" class=\"dataframe\">\n",
       "  <thead>\n",
       "    <tr style=\"text-align: right;\">\n",
       "      <th></th>\n",
       "      <th>Id</th>\n",
       "      <th>ProductId</th>\n",
       "      <th>UserId</th>\n",
       "      <th>ProfileName</th>\n",
       "      <th>HelpfulnessNumerator</th>\n",
       "      <th>HelpfulnessDenominator</th>\n",
       "      <th>Score</th>\n",
       "      <th>Time</th>\n",
       "      <th>Summary</th>\n",
       "      <th>Text</th>\n",
       "      <th>CleanedText</th>\n",
       "      <th>Bow Clus Label</th>\n",
       "      <th>Tfidf Clus Label</th>\n",
       "      <th>AVG-W2V Clus Label</th>\n",
       "    </tr>\n",
       "  </thead>\n",
       "  <tbody>\n",
       "    <tr>\n",
       "      <th>1244</th>\n",
       "      <td>1245</td>\n",
       "      <td>B00002Z754</td>\n",
       "      <td>A29Z5PI9BW2PU3</td>\n",
       "      <td>Robbie</td>\n",
       "      <td>7</td>\n",
       "      <td>7</td>\n",
       "      <td>positive</td>\n",
       "      <td>2000-06-23</td>\n",
       "      <td>Great Product</td>\n",
       "      <td>This was a really good idea and the final prod...</td>\n",
       "      <td>realli good idea final product outstand use de...</td>\n",
       "      <td>1</td>\n",
       "      <td>6</td>\n",
       "      <td>0</td>\n",
       "    </tr>\n",
       "    <tr>\n",
       "      <th>1243</th>\n",
       "      <td>1244</td>\n",
       "      <td>B00002Z754</td>\n",
       "      <td>A3B8RCEI0FXFI6</td>\n",
       "      <td>B G Chase</td>\n",
       "      <td>10</td>\n",
       "      <td>10</td>\n",
       "      <td>positive</td>\n",
       "      <td>2000-06-29</td>\n",
       "      <td>WOW Make your own 'slickers' !</td>\n",
       "      <td>I just received my shipment and could hardly w...</td>\n",
       "      <td>receiv shipment could hard wait tri product lo...</td>\n",
       "      <td>1</td>\n",
       "      <td>2</td>\n",
       "      <td>0</td>\n",
       "    </tr>\n",
       "  </tbody>\n",
       "</table>\n",
       "</div>"
      ],
      "text/plain": [
       "        Id   ProductId          UserId ProfileName  HelpfulnessNumerator  \\\n",
       "1244  1245  B00002Z754  A29Z5PI9BW2PU3      Robbie                     7   \n",
       "1243  1244  B00002Z754  A3B8RCEI0FXFI6   B G Chase                    10   \n",
       "\n",
       "      HelpfulnessDenominator     Score       Time  \\\n",
       "1244                       7  positive 2000-06-23   \n",
       "1243                      10  positive 2000-06-29   \n",
       "\n",
       "                             Summary  \\\n",
       "1244                   Great Product   \n",
       "1243  WOW Make your own 'slickers' !   \n",
       "\n",
       "                                                   Text  \\\n",
       "1244  This was a really good idea and the final prod...   \n",
       "1243  I just received my shipment and could hardly w...   \n",
       "\n",
       "                                            CleanedText  Bow Clus Label  \\\n",
       "1244  realli good idea final product outstand use de...               1   \n",
       "1243  receiv shipment could hard wait tri product lo...               1   \n",
       "\n",
       "      Tfidf Clus Label  AVG-W2V Clus Label  \n",
       "1244                 6                   0  \n",
       "1243                 2                   0  "
      ]
     },
     "execution_count": 68,
     "metadata": {},
     "output_type": "execute_result"
    }
   ],
   "source": [
    "# Giving Labels/assigning a cluster to each point/text\n",
    "dfa = df1\n",
    "dfa['AVG-W2V Clus Label'] = model2.labels_\n",
    "dfa.head(2)"
   ]
  },
  {
   "cell_type": "code",
   "execution_count": 69,
   "metadata": {
    "_uuid": "e15606962925b0e6ebeb110cfa38239b41099ca4",
    "id": "l8Q_y3YtkNRR"
   },
   "outputs": [
    {
     "data": {
      "text/plain": [
       "AVG-W2V Clus Label\n",
       "0    9515\n",
       "Name: Text, dtype: int64"
      ]
     },
     "execution_count": 69,
     "metadata": {},
     "output_type": "execute_result"
    }
   ],
   "source": [
    "# How many points belong to each cluster ->\n",
    "dfa.groupby(['AVG-W2V Clus Label'])['Text'].count()"
   ]
  },
  {
   "cell_type": "code",
   "execution_count": 70,
   "metadata": {
    "_uuid": "8cf5020aa768bf0d94563b6f0152e4668c79268a",
    "id": "rVak32nakNRS"
   },
   "outputs": [
    {
     "name": "stdout",
     "output_type": "stream",
     "text": [
      "A review of assigned to cluster  0\n",
      "----------------------------------------------------------------------\n",
      "If you want a quick pick me up that is not full of added sugar, then this is a refreshing alternative to a soda. The flavor is more heavily tangerine (which only makes sense). It isn't overly sweet, which is a good thing.\n",
      "\n",
      "\n",
      "While orange juice is the fourth ingredient in this drink,  the dominant flavor is a muddy orange which is backed up by a low level of carbonation.  I think that the use of the inexpensive apple and white grape juices as the first two ingredients (tangerine is third) is what results in the unpleasant muddied orange taste. Finally they threw in a bit of acerola juice but to no avail.  To my taste this stuff is suprisingly unpalatable.<br /><br />While the marketing suggestion is that the natural ingredients make these juices healthy that idea is negated by the high level of completely \"natural\" sugar in this or most any juice.  The healthy alterative to overly sugared fruit juices is to have a glass of cold water and a piece of fresh fruit.  Fruit has less calories than juice but overall more vitamins, minerals and fiber and a variety of natural antioxidants that most likely really are good for you.\n",
      "\n",
      "\n",
      "______________________________________________________________________\n",
      "A review of assigned to cluster  1\n",
      "----------------------------------------------------------------------\n"
     ]
    },
    {
     "ename": "KeyError",
     "evalue": "1",
     "output_type": "error",
     "traceback": [
      "\u001b[1;31m---------------------------------------------------------------------------\u001b[0m",
      "\u001b[1;31mKeyError\u001b[0m                                  Traceback (most recent call last)",
      "Cell \u001b[1;32mIn[70], line 5\u001b[0m\n\u001b[0;32m      3\u001b[0m \u001b[38;5;28mprint\u001b[39m(\u001b[38;5;124m\"\u001b[39m\u001b[38;5;124mA review of assigned to cluster \u001b[39m\u001b[38;5;124m\"\u001b[39m, i)\n\u001b[0;32m      4\u001b[0m \u001b[38;5;28mprint\u001b[39m(\u001b[38;5;124m\"\u001b[39m\u001b[38;5;124m-\u001b[39m\u001b[38;5;124m\"\u001b[39m \u001b[38;5;241m*\u001b[39m \u001b[38;5;241m70\u001b[39m)\n\u001b[1;32m----> 5\u001b[0m \u001b[38;5;28mprint\u001b[39m(dfa\u001b[38;5;241m.\u001b[39miloc[\u001b[43mdfa\u001b[49m\u001b[38;5;241;43m.\u001b[39;49m\u001b[43mgroupby\u001b[49m\u001b[43m(\u001b[49m\u001b[43m[\u001b[49m\u001b[38;5;124;43m'\u001b[39;49m\u001b[38;5;124;43mAVG-W2V Clus Label\u001b[39;49m\u001b[38;5;124;43m'\u001b[39;49m\u001b[43m]\u001b[49m\u001b[43m)\u001b[49m\u001b[38;5;241;43m.\u001b[39;49m\u001b[43mgroups\u001b[49m\u001b[43m[\u001b[49m\u001b[43mi\u001b[49m\u001b[43m]\u001b[49m[\u001b[38;5;241m0\u001b[39m]][\u001b[38;5;124m'\u001b[39m\u001b[38;5;124mText\u001b[39m\u001b[38;5;124m'\u001b[39m])\n\u001b[0;32m      6\u001b[0m \u001b[38;5;28mprint\u001b[39m(\u001b[38;5;124m'\u001b[39m\u001b[38;5;130;01m\\n\u001b[39;00m\u001b[38;5;124m'\u001b[39m)\n\u001b[0;32m      7\u001b[0m \u001b[38;5;28mprint\u001b[39m(dfa\u001b[38;5;241m.\u001b[39miloc[dfa\u001b[38;5;241m.\u001b[39mgroupby([\u001b[38;5;124m'\u001b[39m\u001b[38;5;124mAVG-W2V Clus Label\u001b[39m\u001b[38;5;124m'\u001b[39m])\u001b[38;5;241m.\u001b[39mgroups[i][\u001b[38;5;241m1\u001b[39m]][\u001b[38;5;124m'\u001b[39m\u001b[38;5;124mText\u001b[39m\u001b[38;5;124m'\u001b[39m])\n",
      "\u001b[1;31mKeyError\u001b[0m: 1"
     ]
    }
   ],
   "source": [
    "# Reading a review which belong to each group.\n",
    "for i in range(optimal_clusters):\n",
    "    print(\"A review of assigned to cluster \", i)\n",
    "    print(\"-\" * 70)\n",
    "    print(dfa.iloc[dfa.groupby(['AVG-W2V Clus Label']).groups[i][0]]['Text'])\n",
    "    print('\\n')\n",
    "    print(dfa.iloc[dfa.groupby(['AVG-W2V Clus Label']).groups[i][1]]['Text'])\n",
    "    print('\\n')\n",
    "    print(\"_\" * 70)"
   ]
  },
  {
   "cell_type": "markdown",
   "metadata": {
    "_uuid": "0172bf3df2be8959da9a1894f067fe95c712ad4b",
    "id": "NMb315PAkNRS"
   },
   "source": [
    "## Clustering DBSCAN"
   ]
  },
  {
   "cell_type": "code",
   "execution_count": 71,
   "metadata": {
    "_uuid": "e29eb0561696f61e9bc998efaabf0494f62d81b4",
    "id": "XEn4Y9A1kNRS"
   },
   "outputs": [],
   "source": [
    "from sklearn.cluster import DBSCAN"
   ]
  },
  {
   "cell_type": "code",
   "execution_count": 72,
   "metadata": {
    "_uuid": "5dd67e2d9623b5bbedf13928a2089e8c06c72faa",
    "id": "gFI3CnySkNRS"
   },
   "outputs": [],
   "source": [
    "# Computing 200th Nearest neighbour distance\n",
    "minPts = 2 * 100\n",
    "# Lower bound function copied from -> https://gist.github.com/m00nlight/0f9306b4d4e61ba0195f\n",
    "def lower_bound(nums, target): # This function return the number in the array just greater than or equal to itself.\n",
    "    l, r = 0, len(nums) - 1\n",
    "    while l <= r: # Binary searching.\n",
    "        mid = int(l + (r - l) / 2)\n",
    "        if nums[mid] >= target:\n",
    "            r = mid - 1\n",
    "        else:\n",
    "            l = mid + 1\n",
    "    return l\n",
    "\n",
    "def compute200thnearestneighbour(x, data): # Returns the distance of 200th nearest neighbour.\n",
    "    dists = []\n",
    "    for val in data:\n",
    "        dist = np.sum((x - val) **2 ) # computing distances.\n",
    "        if(len(dists) == 200 and dists[199] > dist): # If distance is larger than current largest distance found.\n",
    "            l = int(lower_bound(dists, dist)) # Using the lower bound function to get the right position.\n",
    "            if l < 200 and l >= 0 and dists[l] > dist:\n",
    "                dists[l] = dist\n",
    "        else:\n",
    "            dists.append(dist)\n",
    "            dists.sort()\n",
    "\n",
    "    return dists[199] # Dist 199 contains the distance of 200th nearest neighbour."
   ]
  },
  {
   "cell_type": "code",
   "execution_count": 73,
   "metadata": {
    "_uuid": "704ed70c5ab0f8a15226a2e2115bb26e6831ba89",
    "id": "Og7dl4ATkNRT"
   },
   "outputs": [],
   "source": [
    "# Computing the 200th nearest neighbour distance of some point the dataset:\n",
    "twohundrethneigh = []\n",
    "for val in sent_vectors[:1500]:\n",
    "    twohundrethneigh.append( compute200thnearestneighbour(val, sent_vectors[:1500]) )\n",
    "twohundrethneigh.sort()"
   ]
  },
  {
   "cell_type": "code",
   "execution_count": 74,
   "metadata": {
    "_uuid": "bb027c61e72b87a6fc27100ac151989655cb3638",
    "id": "8xzvOA9PkNRT"
   },
   "outputs": [
    {
     "data": {
      "image/png": "[encoded data removed]",
      "text/plain": [
       "<Figure size 1400x400 with 1 Axes>"
      ]
     },
     "metadata": {},
     "output_type": "display_data"
    }
   ],
   "source": [
    "\n",
    "# Plotting for the Elbow Method :\n",
    "plt.figure(figsize=(14,4))\n",
    "plt.title(\"Elbow Method for Finding the right Eps hyperparameter\")\n",
    "plt.plot([x for x in range(len(twohundrethneigh))], twohundrethneigh)\n",
    "plt.xlabel(\"Number of points\")\n",
    "plt.ylabel(\"Distance of 200th Nearest Neighbour\")\n",
    "plt.show()\n"
   ]
  },
  {
   "cell_type": "markdown",
   "metadata": {
    "_uuid": "4bb840cfae15f6a2d2d35a3c318dd1df903329f5",
    "id": "V6tifTX2kNRU"
   },
   "source": [
    "Conclusions for Elbow Method\n",
    "\n",
    "The Knee point seems to be 5. So Eps = 5"
   ]
  },
  {
   "cell_type": "code",
   "execution_count": 75,
   "metadata": {
    "_uuid": "9a7e337a332c40595b404c6cf5477872ac299b88",
    "id": "4000OzIQkNRU"
   },
   "outputs": [
    {
     "data": {
      "text/html": [
       "<style>#sk-container-id-4 {color: black;background-color: white;}#sk-container-id-4 pre{padding: 0;}#sk-container-id-4 div.sk-toggleable {background-color: white;}#sk-container-id-4 label.sk-toggleable__label {cursor: pointer;display: block;width: 100%;margin-bottom: 0;padding: 0.3em;box-sizing: border-box;text-align: center;}#sk-container-id-4 label.sk-toggleable__label-arrow:before {content: \"▸\";float: left;margin-right: 0.25em;color: #696969;}#sk-container-id-4 label.sk-toggleable__label-arrow:hover:before {color: black;}#sk-container-id-4 div.sk-estimator:hover label.sk-toggleable__label-arrow:before {color: black;}#sk-container-id-4 div.sk-toggleable__content {max-height: 0;max-width: 0;overflow: hidden;text-align: left;background-color: #f0f8ff;}#sk-container-id-4 div.sk-toggleable__content pre {margin: 0.2em;color: black;border-radius: 0.25em;background-color: #f0f8ff;}#sk-container-id-4 input.sk-toggleable__control:checked~div.sk-toggleable__content {max-height: 200px;max-width: 100%;overflow: auto;}#sk-container-id-4 input.sk-toggleable__control:checked~label.sk-toggleable__label-arrow:before {content: \"▾\";}#sk-container-id-4 div.sk-estimator input.sk-toggleable__control:checked~label.sk-toggleable__label {background-color: #d4ebff;}#sk-container-id-4 div.sk-label input.sk-toggleable__control:checked~label.sk-toggleable__label {background-color: #d4ebff;}#sk-container-id-4 input.sk-hidden--visually {border: 0;clip: rect(1px 1px 1px 1px);clip: rect(1px, 1px, 1px, 1px);height: 1px;margin: -1px;overflow: hidden;padding: 0;position: absolute;width: 1px;}#sk-container-id-4 div.sk-estimator {font-family: monospace;background-color: #f0f8ff;border: 1px dotted black;border-radius: 0.25em;box-sizing: border-box;margin-bottom: 0.5em;}#sk-container-id-4 div.sk-estimator:hover {background-color: #d4ebff;}#sk-container-id-4 div.sk-parallel-item::after {content: \"\";width: 100%;border-bottom: 1px solid gray;flex-grow: 1;}#sk-container-id-4 div.sk-label:hover label.sk-toggleable__label {background-color: #d4ebff;}#sk-container-id-4 div.sk-serial::before {content: \"\";position: absolute;border-left: 1px solid gray;box-sizing: border-box;top: 0;bottom: 0;left: 50%;z-index: 0;}#sk-container-id-4 div.sk-serial {display: flex;flex-direction: column;align-items: center;background-color: white;padding-right: 0.2em;padding-left: 0.2em;position: relative;}#sk-container-id-4 div.sk-item {position: relative;z-index: 1;}#sk-container-id-4 div.sk-parallel {display: flex;align-items: stretch;justify-content: center;background-color: white;position: relative;}#sk-container-id-4 div.sk-item::before, #sk-container-id-4 div.sk-parallel-item::before {content: \"\";position: absolute;border-left: 1px solid gray;box-sizing: border-box;top: 0;bottom: 0;left: 50%;z-index: -1;}#sk-container-id-4 div.sk-parallel-item {display: flex;flex-direction: column;z-index: 1;position: relative;background-color: white;}#sk-container-id-4 div.sk-parallel-item:first-child::after {align-self: flex-end;width: 50%;}#sk-container-id-4 div.sk-parallel-item:last-child::after {align-self: flex-start;width: 50%;}#sk-container-id-4 div.sk-parallel-item:only-child::after {width: 0;}#sk-container-id-4 div.sk-dashed-wrapped {border: 1px dashed gray;margin: 0 0.4em 0.5em 0.4em;box-sizing: border-box;padding-bottom: 0.4em;background-color: white;}#sk-container-id-4 div.sk-label label {font-family: monospace;font-weight: bold;display: inline-block;line-height: 1.2em;}#sk-container-id-4 div.sk-label-container {text-align: center;}#sk-container-id-4 div.sk-container {/* jupyter's `normalize.less` sets `[hidden] { display: none; }` but bootstrap.min.css set `[hidden] { display: none !important; }` so we also need the `!important` here to be able to override the default hidden behavior on the sphinx rendered scikit-learn.org. See: https://github.com/scikit-learn/scikit-learn/issues/21755 */display: inline-block !important;position: relative;}#sk-container-id-4 div.sk-text-repr-fallback {display: none;}</style><div id=\"sk-container-id-4\" class=\"sk-top-container\"><div class=\"sk-text-repr-fallback\"><pre>DBSCAN(eps=5, min_samples=200, n_jobs=-1)</pre><b>In a Jupyter environment, please rerun this cell to show the HTML representation or trust the notebook. <br />On GitHub, the HTML representation is unable to render, please try loading this page with nbviewer.org.</b></div><div class=\"sk-container\" hidden><div class=\"sk-item\"><div class=\"sk-estimator sk-toggleable\"><input class=\"sk-toggleable__control sk-hidden--visually\" id=\"sk-estimator-id-4\" type=\"checkbox\" checked><label for=\"sk-estimator-id-4\" class=\"sk-toggleable__label sk-toggleable__label-arrow\">DBSCAN</label><div class=\"sk-toggleable__content\"><pre>DBSCAN(eps=5, min_samples=200, n_jobs=-1)</pre></div></div></div></div></div>"
      ],
      "text/plain": [
       "DBSCAN(eps=5, min_samples=200, n_jobs=-1)"
      ]
     },
     "execution_count": 75,
     "metadata": {},
     "output_type": "execute_result"
    }
   ],
   "source": [
    "# Training DBSCAN :\n",
    "model = DBSCAN(eps = 5, min_samples = minPts, n_jobs=-1)\n",
    "model.fit(sent_vectors)"
   ]
  },
  {
   "cell_type": "code",
   "execution_count": 76,
   "metadata": {
    "_uuid": "65f3213e29441af1426b7ada9c034c154942f41b",
    "id": "EZDAh3bIkNRU"
   },
   "outputs": [
    {
     "data": {
      "text/html": [
       "<div>\n",
       "<style scoped>\n",
       "    .dataframe tbody tr th:only-of-type {\n",
       "        vertical-align: middle;\n",
       "    }\n",
       "\n",
       "    .dataframe tbody tr th {\n",
       "        vertical-align: top;\n",
       "    }\n",
       "\n",
       "    .dataframe thead th {\n",
       "        text-align: right;\n",
       "    }\n",
       "</style>\n",
       "<table border=\"1\" class=\"dataframe\">\n",
       "  <thead>\n",
       "    <tr style=\"text-align: right;\">\n",
       "      <th></th>\n",
       "      <th>Id</th>\n",
       "      <th>ProductId</th>\n",
       "      <th>UserId</th>\n",
       "      <th>ProfileName</th>\n",
       "      <th>HelpfulnessNumerator</th>\n",
       "      <th>HelpfulnessDenominator</th>\n",
       "      <th>Score</th>\n",
       "      <th>Time</th>\n",
       "      <th>Summary</th>\n",
       "      <th>Text</th>\n",
       "      <th>CleanedText</th>\n",
       "      <th>Bow Clus Label</th>\n",
       "      <th>Tfidf Clus Label</th>\n",
       "      <th>AVG-W2V Clus Label</th>\n",
       "    </tr>\n",
       "  </thead>\n",
       "  <tbody>\n",
       "    <tr>\n",
       "      <th>1244</th>\n",
       "      <td>1245</td>\n",
       "      <td>B00002Z754</td>\n",
       "      <td>A29Z5PI9BW2PU3</td>\n",
       "      <td>Robbie</td>\n",
       "      <td>7</td>\n",
       "      <td>7</td>\n",
       "      <td>positive</td>\n",
       "      <td>2000-06-23</td>\n",
       "      <td>Great Product</td>\n",
       "      <td>This was a really good idea and the final prod...</td>\n",
       "      <td>realli good idea final product outstand use de...</td>\n",
       "      <td>1</td>\n",
       "      <td>6</td>\n",
       "      <td>0</td>\n",
       "    </tr>\n",
       "    <tr>\n",
       "      <th>1243</th>\n",
       "      <td>1244</td>\n",
       "      <td>B00002Z754</td>\n",
       "      <td>A3B8RCEI0FXFI6</td>\n",
       "      <td>B G Chase</td>\n",
       "      <td>10</td>\n",
       "      <td>10</td>\n",
       "      <td>positive</td>\n",
       "      <td>2000-06-29</td>\n",
       "      <td>WOW Make your own 'slickers' !</td>\n",
       "      <td>I just received my shipment and could hardly w...</td>\n",
       "      <td>receiv shipment could hard wait tri product lo...</td>\n",
       "      <td>1</td>\n",
       "      <td>2</td>\n",
       "      <td>0</td>\n",
       "    </tr>\n",
       "  </tbody>\n",
       "</table>\n",
       "</div>"
      ],
      "text/plain": [
       "        Id   ProductId          UserId ProfileName  HelpfulnessNumerator  \\\n",
       "1244  1245  B00002Z754  A29Z5PI9BW2PU3      Robbie                     7   \n",
       "1243  1244  B00002Z754  A3B8RCEI0FXFI6   B G Chase                    10   \n",
       "\n",
       "      HelpfulnessDenominator     Score       Time  \\\n",
       "1244                       7  positive 2000-06-23   \n",
       "1243                      10  positive 2000-06-29   \n",
       "\n",
       "                             Summary  \\\n",
       "1244                   Great Product   \n",
       "1243  WOW Make your own 'slickers' !   \n",
       "\n",
       "                                                   Text  \\\n",
       "1244  This was a really good idea and the final prod...   \n",
       "1243  I just received my shipment and could hardly w...   \n",
       "\n",
       "                                            CleanedText  Bow Clus Label  \\\n",
       "1244  realli good idea final product outstand use de...               1   \n",
       "1243  receiv shipment could hard wait tri product lo...               1   \n",
       "\n",
       "      Tfidf Clus Label  AVG-W2V Clus Label  \n",
       "1244                 6                   0  \n",
       "1243                 2                   0  "
      ]
     },
     "execution_count": 76,
     "metadata": {},
     "output_type": "execute_result"
    }
   ],
   "source": [
    "\n",
    "dfdb = dfa\n",
    "dfdb['AVG-W2V Clus Label'] = model.labels_\n",
    "dfdb.head(2)"
   ]
  },
  {
   "cell_type": "code",
   "execution_count": 77,
   "metadata": {
    "_uuid": "dada783c364017c64e12fcd3a5634bfb2a58240e",
    "id": "bEIyQd5UkNRV"
   },
   "outputs": [
    {
     "data": {
      "text/plain": [
       "AVG-W2V Clus Label\n",
       "0    9515\n",
       "Name: Id, dtype: int64"
      ]
     },
     "execution_count": 77,
     "metadata": {},
     "output_type": "execute_result"
    }
   ],
   "source": [
    "dfdb.groupby(['AVG-W2V Clus Label'])['Id'].count()"
   ]
  }
 ],
 "metadata": {
  "accelerator": "TPU",
  "colab": {
   "provenance": []
  },
  "kernelspec": {
   "display_name": "Python 3 (ipykernel)",
   "language": "python",
   "name": "python3"
  },
  "language_info": {
   "codemirror_mode": {
    "name": "ipython",
    "version": 3
   },
   "file_extension": ".py",
   "mimetype": "text/x-python",
   "name": "python",
   "nbconvert_exporter": "python",
   "pygments_lexer": "ipython3",
   "version": "3.10.9"
  }
 },
 "nbformat": 4,
 "nbformat_minor": 4
}
